{
 "cells": [
  {
   "cell_type": "code",
   "execution_count": 9,
   "metadata": {},
   "outputs": [
    {
     "name": "stdout",
     "output_type": "stream",
     "text": [
      "Decision Tree (Train) Accuracy = 1.0\n",
      "Decision Tree (Test) Accuracy = 0.751\n",
      "Random Forest (Train) Accuracy = 1.0\n",
      "Random Forest (Test) Accuracy = 0.7965\n",
      "AdaBoost (Train) Accuracy = 0.825625\n",
      "AdaBoost (Test) Accuracy = 0.833\n"
     ]
    }
   ],
   "source": [
    "# Load Library\n",
    "from sklearn.datasets import make_moons\n",
    "from sklearn.metrics import accuracy_score\n",
    "from sklearn.model_selection import train_test_split\n",
    "from sklearn.tree import DecisionTreeClassifier\n",
    "from sklearn.ensemble import RandomForestClassifier, AdaBoostClassifier\n",
    "\n",
    "# Step1: Create data set\n",
    "X, y = make_moons(n_samples=10000, noise=.5, random_state=0)\n",
    "\n",
    "# Step2: Split the training test set\n",
    "X_train, X_test, y_train, y_test = train_test_split(X, y, test_size=0.2, random_state=42)\n",
    "\n",
    "# Step 3: Fit a Decision Tree model as comparison\n",
    "clf = DecisionTreeClassifier()\n",
    "clf.fit(X_train, y_train)\n",
    "y_pred = clf.predict(X_train)\n",
    "print(f\"Decision Tree (Train) Accuracy = {accuracy_score(y_train, y_pred)}\")\n",
    "y_pred = clf.predict(X_test)\n",
    "print(f\"Decision Tree (Test) Accuracy = {accuracy_score(y_test, y_pred)}\")\n",
    "\n",
    "\n",
    "# Step 4: Fit a Random Forest model, compared to \"Decision Tree model, accuracy go up by 5%\n",
    "clf = RandomForestClassifier(n_estimators=100, max_features=\"auto\",random_state=0)\n",
    "clf.fit(X_train, y_train)\n",
    "y_pred = clf.predict(X_train)\n",
    "print(f\"Random Forest (Train) Accuracy = {accuracy_score(y_train, y_pred)}\", )\n",
    "y_pred = clf.predict(X_test)\n",
    "print(f\"Random Forest (Test) Accuracy = {accuracy_score(y_test, y_pred)}\", )\n",
    "\n",
    "\n",
    "# Step 5: Fit a AdaBoost model, compared to \"Decision Tree model, accuracy go up by 10%\n",
    "clf = AdaBoostClassifier(n_estimators=100)\n",
    "clf.fit(X_train, y_train)\n",
    "y_pred = clf.predict(X_train)\n",
    "print(f\"AdaBoost (Train) Accuracy = {accuracy_score(y_train, y_pred)}\")\n",
    "y_pred = clf.predict(X_test)\n",
    "print(f\"AdaBoost (Test) Accuracy = {accuracy_score(y_test, y_pred)}\")\n",
    "\n",
    "\n"
   ]
  },
  {
   "cell_type": "code",
   "execution_count": null,
   "metadata": {},
   "outputs": [],
   "source": []
  }
 ],
 "metadata": {
  "kernelspec": {
   "display_name": "Python 3",
   "language": "python",
   "name": "python3"
  },
  "language_info": {
   "codemirror_mode": {
    "name": "ipython",
    "version": 3
   },
   "file_extension": ".py",
   "mimetype": "text/x-python",
   "name": "python",
   "nbconvert_exporter": "python",
   "pygments_lexer": "ipython3",
   "version": "3.8.3"
  }
 },
 "nbformat": 4,
 "nbformat_minor": 4
}
