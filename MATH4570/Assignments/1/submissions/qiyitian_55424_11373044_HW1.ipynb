{
 "cells": [
  {
   "cell_type": "code",
   "execution_count": 3,
   "id": "68274c26-fec6-42d6-b064-7ec3189b7b88",
   "metadata": {},
   "outputs": [
    {
     "data": {
      "text/plain": [
       "GF([[1, 0, 0, 4],\n",
       "    [0, 1, 0, 3],\n",
       "    [0, 0, 1, 0]], order=7)"
      ]
     },
     "execution_count": 3,
     "metadata": {},
     "output_type": "execute_result"
    }
   ],
   "source": [
    "#Q12\n",
    "import sympy as sym\n",
    "from sympy.interactive.printing import init_printing\n",
    "from sympy.matrices import Matrix, eye, zeros, ones, diag, GramSchmidt\n",
    "from sympy import *\n",
    "from sympy import shape\n",
    "from sympy import Matrix, pprint\n",
    "import numpy as np\n",
    "import galois\n",
    "\n",
    "GF7 = galois.GF(7)\n",
    "A = GF7([[3, 1, 4, 1], [5, 2, 6, 5], [0, 5, 2, 1]])\n",
    "GF7.row_reduce(A)\n"
   ]
  },
  {
   "cell_type": "code",
   "execution_count": 31,
   "id": "cde2d521-7d7f-4981-a6db-e5719380673a",
   "metadata": {},
   "outputs": [
    {
     "data": {
      "text/plain": [
       "(Matrix([\n",
       " [1, 0, -1, 0],\n",
       " [0, 1,  2, 0],\n",
       " [0, 0,  0, 1]]),\n",
       " (0, 1, 3))"
      ]
     },
     "execution_count": 31,
     "metadata": {},
     "output_type": "execute_result"
    }
   ],
   "source": [
    "#Q13\n",
    "M = Matrix([[3, 11, 19, -2], [7, 23, 39, 10], [-4, -3, -2, 6]])\n",
    "M.rref()\n",
    "\n"
   ]
  },
  {
   "cell_type": "code",
   "execution_count": 32,
   "id": "aecf81d0-1e85-4250-8a9e-8630ab9a4b5a",
   "metadata": {},
   "outputs": [
    {
     "data": {
      "text/plain": [
       "(Matrix([\n",
       " [1, 2, 3, 0, 5, 6],\n",
       " [0, 0, 0, 1, 2, 7],\n",
       " [0, 0, 0, 0, 0, 0]]),\n",
       " (0, 3))"
      ]
     },
     "execution_count": 32,
     "metadata": {},
     "output_type": "execute_result"
    }
   ],
   "source": [
    "#Q14\n",
    "M = Matrix([[3, 6, 9, 5, 25, 53], [7, 14, 21, 9, 53, 105], [-4, -8, -12, 5, -10, 11]])\n",
    "M.rref()\n"
   ]
  },
  {
   "cell_type": "code",
   "execution_count": 34,
   "id": "5dde3b75-7ead-4708-abb0-0d8d5a03865f",
   "metadata": {},
   "outputs": [
    {
     "data": {
      "text/plain": [
       "(Matrix([\n",
       " [1, 0, 0, 0, 0, -8221/4340],\n",
       " [0, 1, 0, 0, 0,  8591/8680],\n",
       " [0, 0, 1, 0, 0,   4695/434],\n",
       " [0, 0, 0, 1, 0,   -459/434],\n",
       " [0, 0, 0, 0, 1,    699/434]]),\n",
       " (0, 1, 2, 3, 4))"
      ]
     },
     "execution_count": 34,
     "metadata": {},
     "output_type": "execute_result"
    }
   ],
   "source": [
    "#Q15\n",
    "M = Matrix([[2, 4, 3, 5, 6, 37], [4, 8, 7, 5, 2, 74], [-2, -4, 3, 4, -5, 20], [1, 2, 2, -1, 2, 26], [5, -10, 4, 6, 4, 24]])\n",
    "M.rref()"
   ]
  },
  {
   "cell_type": "code",
   "execution_count": null,
   "id": "62c61304-8443-466c-91f3-9adbc47f9be0",
   "metadata": {},
   "outputs": [],
   "source": []
  },
  {
   "cell_type": "code",
   "execution_count": null,
   "id": "2ff99b35-5d1a-4661-a5b0-ed616ebaffab",
   "metadata": {},
   "outputs": [],
   "source": []
  }
 ],
 "metadata": {
  "kernelspec": {
   "display_name": "Python 3",
   "language": "python",
   "name": "python3"
  },
  "language_info": {
   "codemirror_mode": {
    "name": "ipython",
    "version": 3
   },
   "file_extension": ".py",
   "mimetype": "text/x-python",
   "name": "python",
   "nbconvert_exporter": "python",
   "pygments_lexer": "ipython3",
   "version": "3.8.8"
  }
 },
 "nbformat": 4,
 "nbformat_minor": 5
}
