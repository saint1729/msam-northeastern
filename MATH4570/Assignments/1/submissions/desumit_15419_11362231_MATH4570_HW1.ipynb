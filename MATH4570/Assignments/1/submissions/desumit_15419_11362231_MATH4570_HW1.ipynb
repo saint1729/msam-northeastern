{
  "nbformat": 4,
  "nbformat_minor": 0,
  "metadata": {
    "colab": {
      "name": "MATH4570-HW1.ipynb",
      "provenance": [],
      "collapsed_sections": []
    },
    "kernelspec": {
      "name": "python3",
      "display_name": "Python 3"
    },
    "language_info": {
      "name": "python"
    }
  },
  "cells": [
    {
      "cell_type": "code",
      "metadata": {
        "id": "wprwM_KK6Lb3"
      },
      "source": [
        "import sympy as sym"
      ],
      "execution_count": 1,
      "outputs": []
    },
    {
      "cell_type": "code",
      "metadata": {
        "id": "2dMEJBsT9_pJ"
      },
      "source": [
        "from sympy.interactive.printing import init_printing"
      ],
      "execution_count": 2,
      "outputs": []
    },
    {
      "cell_type": "code",
      "metadata": {
        "colab": {
          "base_uri": "https://localhost:8080/"
        },
        "id": "JFYJloOj_owV",
        "outputId": "5b78f268-303e-4334-e878-a9a2e57c1d56"
      },
      "source": [
        "pip install galois"
      ],
      "execution_count": 4,
      "outputs": [
        {
          "output_type": "stream",
          "name": "stdout",
          "text": [
            "Collecting galois\n",
            "  Downloading galois-0.0.21-py3-none-any.whl (783 kB)\n",
            "\u001b[?25l\r\u001b[K     |▍                               | 10 kB 16.6 MB/s eta 0:00:01\r\u001b[K     |▉                               | 20 kB 21.8 MB/s eta 0:00:01\r\u001b[K     |█▎                              | 30 kB 24.2 MB/s eta 0:00:01\r\u001b[K     |█▊                              | 40 kB 8.9 MB/s eta 0:00:01\r\u001b[K     |██                              | 51 kB 5.5 MB/s eta 0:00:01\r\u001b[K     |██▌                             | 61 kB 5.6 MB/s eta 0:00:01\r\u001b[K     |███                             | 71 kB 5.4 MB/s eta 0:00:01\r\u001b[K     |███▍                            | 81 kB 6.0 MB/s eta 0:00:01\r\u001b[K     |███▊                            | 92 kB 5.9 MB/s eta 0:00:01\r\u001b[K     |████▏                           | 102 kB 5.0 MB/s eta 0:00:01\r\u001b[K     |████▋                           | 112 kB 5.0 MB/s eta 0:00:01\r\u001b[K     |█████                           | 122 kB 5.0 MB/s eta 0:00:01\r\u001b[K     |█████▍                          | 133 kB 5.0 MB/s eta 0:00:01\r\u001b[K     |█████▉                          | 143 kB 5.0 MB/s eta 0:00:01\r\u001b[K     |██████▎                         | 153 kB 5.0 MB/s eta 0:00:01\r\u001b[K     |██████▊                         | 163 kB 5.0 MB/s eta 0:00:01\r\u001b[K     |███████▏                        | 174 kB 5.0 MB/s eta 0:00:01\r\u001b[K     |███████▌                        | 184 kB 5.0 MB/s eta 0:00:01\r\u001b[K     |████████                        | 194 kB 5.0 MB/s eta 0:00:01\r\u001b[K     |████████▍                       | 204 kB 5.0 MB/s eta 0:00:01\r\u001b[K     |████████▉                       | 215 kB 5.0 MB/s eta 0:00:01\r\u001b[K     |█████████▏                      | 225 kB 5.0 MB/s eta 0:00:01\r\u001b[K     |█████████▋                      | 235 kB 5.0 MB/s eta 0:00:01\r\u001b[K     |██████████                      | 245 kB 5.0 MB/s eta 0:00:01\r\u001b[K     |██████████▌                     | 256 kB 5.0 MB/s eta 0:00:01\r\u001b[K     |██████████▉                     | 266 kB 5.0 MB/s eta 0:00:01\r\u001b[K     |███████████▎                    | 276 kB 5.0 MB/s eta 0:00:01\r\u001b[K     |███████████▊                    | 286 kB 5.0 MB/s eta 0:00:01\r\u001b[K     |████████████▏                   | 296 kB 5.0 MB/s eta 0:00:01\r\u001b[K     |████████████▌                   | 307 kB 5.0 MB/s eta 0:00:01\r\u001b[K     |█████████████                   | 317 kB 5.0 MB/s eta 0:00:01\r\u001b[K     |█████████████▍                  | 327 kB 5.0 MB/s eta 0:00:01\r\u001b[K     |█████████████▉                  | 337 kB 5.0 MB/s eta 0:00:01\r\u001b[K     |██████████████▎                 | 348 kB 5.0 MB/s eta 0:00:01\r\u001b[K     |██████████████▋                 | 358 kB 5.0 MB/s eta 0:00:01\r\u001b[K     |███████████████                 | 368 kB 5.0 MB/s eta 0:00:01\r\u001b[K     |███████████████▌                | 378 kB 5.0 MB/s eta 0:00:01\r\u001b[K     |████████████████                | 389 kB 5.0 MB/s eta 0:00:01\r\u001b[K     |████████████████▎               | 399 kB 5.0 MB/s eta 0:00:01\r\u001b[K     |████████████████▊               | 409 kB 5.0 MB/s eta 0:00:01\r\u001b[K     |█████████████████▏              | 419 kB 5.0 MB/s eta 0:00:01\r\u001b[K     |█████████████████▋              | 430 kB 5.0 MB/s eta 0:00:01\r\u001b[K     |██████████████████              | 440 kB 5.0 MB/s eta 0:00:01\r\u001b[K     |██████████████████▍             | 450 kB 5.0 MB/s eta 0:00:01\r\u001b[K     |██████████████████▉             | 460 kB 5.0 MB/s eta 0:00:01\r\u001b[K     |███████████████████▎            | 471 kB 5.0 MB/s eta 0:00:01\r\u001b[K     |███████████████████▋            | 481 kB 5.0 MB/s eta 0:00:01\r\u001b[K     |████████████████████            | 491 kB 5.0 MB/s eta 0:00:01\r\u001b[K     |████████████████████▌           | 501 kB 5.0 MB/s eta 0:00:01\r\u001b[K     |█████████████████████           | 512 kB 5.0 MB/s eta 0:00:01\r\u001b[K     |█████████████████████▍          | 522 kB 5.0 MB/s eta 0:00:01\r\u001b[K     |█████████████████████▊          | 532 kB 5.0 MB/s eta 0:00:01\r\u001b[K     |██████████████████████▏         | 542 kB 5.0 MB/s eta 0:00:01\r\u001b[K     |██████████████████████▋         | 552 kB 5.0 MB/s eta 0:00:01\r\u001b[K     |███████████████████████         | 563 kB 5.0 MB/s eta 0:00:01\r\u001b[K     |███████████████████████▍        | 573 kB 5.0 MB/s eta 0:00:01\r\u001b[K     |███████████████████████▉        | 583 kB 5.0 MB/s eta 0:00:01\r\u001b[K     |████████████████████████▎       | 593 kB 5.0 MB/s eta 0:00:01\r\u001b[K     |████████████████████████▊       | 604 kB 5.0 MB/s eta 0:00:01\r\u001b[K     |█████████████████████████       | 614 kB 5.0 MB/s eta 0:00:01\r\u001b[K     |█████████████████████████▌      | 624 kB 5.0 MB/s eta 0:00:01\r\u001b[K     |██████████████████████████      | 634 kB 5.0 MB/s eta 0:00:01\r\u001b[K     |██████████████████████████▍     | 645 kB 5.0 MB/s eta 0:00:01\r\u001b[K     |██████████████████████████▉     | 655 kB 5.0 MB/s eta 0:00:01\r\u001b[K     |███████████████████████████▏    | 665 kB 5.0 MB/s eta 0:00:01\r\u001b[K     |███████████████████████████▋    | 675 kB 5.0 MB/s eta 0:00:01\r\u001b[K     |████████████████████████████    | 686 kB 5.0 MB/s eta 0:00:01\r\u001b[K     |████████████████████████████▌   | 696 kB 5.0 MB/s eta 0:00:01\r\u001b[K     |████████████████████████████▉   | 706 kB 5.0 MB/s eta 0:00:01\r\u001b[K     |█████████████████████████████▎  | 716 kB 5.0 MB/s eta 0:00:01\r\u001b[K     |█████████████████████████████▊  | 727 kB 5.0 MB/s eta 0:00:01\r\u001b[K     |██████████████████████████████▏ | 737 kB 5.0 MB/s eta 0:00:01\r\u001b[K     |██████████████████████████████▌ | 747 kB 5.0 MB/s eta 0:00:01\r\u001b[K     |███████████████████████████████ | 757 kB 5.0 MB/s eta 0:00:01\r\u001b[K     |███████████████████████████████▍| 768 kB 5.0 MB/s eta 0:00:01\r\u001b[K     |███████████████████████████████▉| 778 kB 5.0 MB/s eta 0:00:01\r\u001b[K     |████████████████████████████████| 783 kB 5.0 MB/s \n",
            "\u001b[?25hRequirement already satisfied: numpy<1.21,>=1.17.3 in /usr/local/lib/python3.7/dist-packages (from galois) (1.19.5)\n",
            "Collecting numba<0.54,>=0.53\n",
            "  Downloading numba-0.53.1-cp37-cp37m-manylinux2014_x86_64.whl (3.4 MB)\n",
            "\u001b[K     |████████████████████████████████| 3.4 MB 27.0 MB/s \n",
            "\u001b[?25hCollecting llvmlite<0.37,>=0.36.0rc1\n",
            "  Downloading llvmlite-0.36.0-cp37-cp37m-manylinux2010_x86_64.whl (25.3 MB)\n",
            "\u001b[K     |████████████████████████████████| 25.3 MB 78 kB/s \n",
            "\u001b[?25hRequirement already satisfied: setuptools in /usr/local/lib/python3.7/dist-packages (from numba<0.54,>=0.53->galois) (57.4.0)\n",
            "Installing collected packages: llvmlite, numba, galois\n",
            "  Attempting uninstall: llvmlite\n",
            "    Found existing installation: llvmlite 0.34.0\n",
            "    Uninstalling llvmlite-0.34.0:\n",
            "      Successfully uninstalled llvmlite-0.34.0\n",
            "  Attempting uninstall: numba\n",
            "    Found existing installation: numba 0.51.2\n",
            "    Uninstalling numba-0.51.2:\n",
            "      Successfully uninstalled numba-0.51.2\n",
            "Successfully installed galois-0.0.21 llvmlite-0.36.0 numba-0.53.1\n"
          ]
        }
      ]
    },
    {
      "cell_type": "code",
      "metadata": {
        "id": "X8KVAIrU_qjh"
      },
      "source": [
        "import galois"
      ],
      "execution_count": 5,
      "outputs": []
    },
    {
      "cell_type": "code",
      "metadata": {
        "id": "_k7oGaTt-Ib-"
      },
      "source": [
        "init_printing()"
      ],
      "execution_count": 6,
      "outputs": []
    },
    {
      "cell_type": "markdown",
      "metadata": {
        "id": "Su5WB0k99hhT"
      },
      "source": [
        "Question 11\n"
      ]
    },
    {
      "cell_type": "code",
      "metadata": {
        "id": "1i7orjsn9l2U"
      },
      "source": [
        "A = sym.Matrix([[1, 2, 3, 4], [1, 1, 0, 2], [2, 0, 1, 2]])\n"
      ],
      "execution_count": 7,
      "outputs": []
    },
    {
      "cell_type": "code",
      "metadata": {
        "colab": {
          "base_uri": "https://localhost:8080/",
          "height": 78
        },
        "id": "2SDK0H4392CC",
        "outputId": "5c9166d6-9184-438b-a559-f12da34fbf5c"
      },
      "source": [
        "A.rref()"
      ],
      "execution_count": 8,
      "outputs": [
        {
          "output_type": "execute_result",
          "data": {
            "text/latex": "$\\displaystyle \\left( \\left[\\begin{matrix}1 & 0 & 0 & \\frac{6}{7}\\\\0 & 1 & 0 & \\frac{8}{7}\\\\0 & 0 & 1 & \\frac{2}{7}\\end{matrix}\\right], \\  \\left( 0, \\  1, \\  2\\right)\\right)$",
            "text/plain": [
              "⎛⎡1  0  0  6/7⎤           ⎞\n",
              "⎜⎢            ⎥           ⎟\n",
              "⎜⎢0  1  0  8/7⎥, (0, 1, 2)⎟\n",
              "⎜⎢            ⎥           ⎟\n",
              "⎝⎣0  0  1  2/7⎦           ⎠"
            ]
          },
          "metadata": {},
          "execution_count": 8
        }
      ]
    },
    {
      "cell_type": "code",
      "metadata": {
        "colab": {
          "base_uri": "https://localhost:8080/"
        },
        "id": "Uv9-agkC_x1M",
        "outputId": "c9a881d9-2871-4d20-e87b-3df652e90904"
      },
      "source": [
        "GF7 = galois.GF(7)\n",
        "A_7 = GF7([[1, 2, 3, 4], [1, 1, 0, 2], [2, 0, 1, 2]])\n",
        "GF7.row_reduce(A_7)"
      ],
      "execution_count": 9,
      "outputs": [
        {
          "output_type": "execute_result",
          "data": {
            "text/plain": [
              "GF([[1, 0, 4, 0],\n",
              "    [0, 1, 3, 0],\n",
              "    [0, 0, 0, 1]], order=7)"
            ]
          },
          "metadata": {},
          "execution_count": 9
        }
      ]
    },
    {
      "cell_type": "code",
      "metadata": {
        "colab": {
          "base_uri": "https://localhost:8080/"
        },
        "id": "2a3BxQQIBLEF",
        "outputId": "ec893c4e-7bf5-463c-a6e9-c09c06878807"
      },
      "source": [
        "GF2 = galois.GF(2)\n",
        "A_2 = GF2([[1, 0, 1, 0], [1, 1, 0, 0], [0, 0, 1, 0]])\n",
        "GF2.row_reduce(A_2)"
      ],
      "execution_count": 10,
      "outputs": [
        {
          "output_type": "execute_result",
          "data": {
            "text/plain": [
              "GF([[1, 0, 0, 0],\n",
              "    [0, 1, 0, 0],\n",
              "    [0, 0, 1, 0]], order=2)"
            ]
          },
          "metadata": {},
          "execution_count": 10
        }
      ]
    },
    {
      "cell_type": "code",
      "metadata": {
        "colab": {
          "base_uri": "https://localhost:8080/"
        },
        "id": "HQiKZhkoBYmX",
        "outputId": "95e1e0e3-f99a-45da-d777-b1eeb63466c8"
      },
      "source": [
        "GF3 = galois.GF(3)\n",
        "A_3 = GF3([[1, 0, 1, 0], [1, 1, 0, 0], [0, 0, 1, 0]])\n",
        "GF3.row_reduce(A_3)"
      ],
      "execution_count": 11,
      "outputs": [
        {
          "output_type": "execute_result",
          "data": {
            "text/plain": [
              "GF([[1, 0, 0, 0],\n",
              "    [0, 1, 0, 0],\n",
              "    [0, 0, 1, 0]], order=3)"
            ]
          },
          "metadata": {},
          "execution_count": 11
        }
      ]
    },
    {
      "cell_type": "markdown",
      "metadata": {
        "id": "TWkKXGxNTy_-"
      },
      "source": [
        "Question 12"
      ]
    },
    {
      "cell_type": "code",
      "metadata": {
        "colab": {
          "base_uri": "https://localhost:8080/"
        },
        "id": "xh6STXsnTzpe",
        "outputId": "cc789a6c-3ac9-423e-f444-154e2685030f"
      },
      "source": [
        "A_4 = GF7([[3, 1, 4, 1], [5, 2, 6, 5], [0, 5, 2, 1]])\n",
        "GF7.row_reduce(A_4)"
      ],
      "execution_count": 14,
      "outputs": [
        {
          "output_type": "execute_result",
          "data": {
            "text/plain": [
              "GF([[1, 0, 0, 4],\n",
              "    [0, 1, 0, 3],\n",
              "    [0, 0, 1, 0]], order=7)"
            ]
          },
          "metadata": {},
          "execution_count": 14
        }
      ]
    },
    {
      "cell_type": "markdown",
      "metadata": {
        "id": "icIWqXgmJtfc"
      },
      "source": [
        "Question 13"
      ]
    },
    {
      "cell_type": "code",
      "metadata": {
        "colab": {
          "base_uri": "https://localhost:8080/",
          "height": 78
        },
        "id": "bvnhW0MRJub7",
        "outputId": "884c4423-c29a-42bf-dc75-51259226ac8e"
      },
      "source": [
        "B = sym.Matrix([[3, 11, 19, -2], [7, 23, 39, 10], [-4, -3, -2, 6]])\n",
        "B.rref()"
      ],
      "execution_count": null,
      "outputs": [
        {
          "output_type": "execute_result",
          "data": {
            "text/latex": "$\\displaystyle \\left( \\left[\\begin{matrix}1 & 0 & -1 & 0\\\\0 & 1 & 2 & 0\\\\0 & 0 & 0 & 1\\end{matrix}\\right], \\  \\left( 0, \\  1, \\  3\\right)\\right)$",
            "text/plain": [
              "⎛⎡1  0  -1  0⎤           ⎞\n",
              "⎜⎢           ⎥           ⎟\n",
              "⎜⎢0  1  2   0⎥, (0, 1, 3)⎟\n",
              "⎜⎢           ⎥           ⎟\n",
              "⎝⎣0  0  0   1⎦           ⎠"
            ]
          },
          "metadata": {},
          "execution_count": 24
        }
      ]
    },
    {
      "cell_type": "markdown",
      "metadata": {
        "id": "Gz_WX2OQKwDM"
      },
      "source": [
        "Question 14"
      ]
    },
    {
      "cell_type": "code",
      "metadata": {
        "colab": {
          "base_uri": "https://localhost:8080/",
          "height": 78
        },
        "id": "ALFPh-X7KyA8",
        "outputId": "9a84dfd5-50ff-4d82-dff0-40046bbb388d"
      },
      "source": [
        "C = sym.Matrix([[3, 6, 9, 5, 25, 53], [7, 14, 21, 9, 53, 105], [-4, -8, -12, 5, -10, 11]])\n",
        "C.rref()"
      ],
      "execution_count": null,
      "outputs": [
        {
          "output_type": "execute_result",
          "data": {
            "text/latex": "$\\displaystyle \\left( \\left[\\begin{matrix}1 & 2 & 3 & 0 & 5 & 6\\\\0 & 0 & 0 & 1 & 2 & 7\\\\0 & 0 & 0 & 0 & 0 & 0\\end{matrix}\\right], \\  \\left( 0, \\  3\\right)\\right)$",
            "text/plain": [
              "⎛⎡1  2  3  0  5  6⎤        ⎞\n",
              "⎜⎢                ⎥        ⎟\n",
              "⎜⎢0  0  0  1  2  7⎥, (0, 3)⎟\n",
              "⎜⎢                ⎥        ⎟\n",
              "⎝⎣0  0  0  0  0  0⎦        ⎠"
            ]
          },
          "metadata": {},
          "execution_count": 25
        }
      ]
    },
    {
      "cell_type": "markdown",
      "metadata": {
        "id": "RypVIHWLL5ly"
      },
      "source": [
        "Question 15"
      ]
    },
    {
      "cell_type": "code",
      "metadata": {
        "colab": {
          "base_uri": "https://localhost:8080/",
          "height": 119
        },
        "id": "M8XIJc55L6yX",
        "outputId": "dcd36793-5579-4d6c-f5f5-c3b778fd3604"
      },
      "source": [
        "D = sym.Matrix([[2, 4, 3, 5, 6, 37], [4, 8, 7, 5, 2, 74], [-2, -4, 3, 4, -5, 20], [1, 2, 2, -1, 2, 26], [5, -10, 4, 6, 4, 24]])\n",
        "D.rref()"
      ],
      "execution_count": null,
      "outputs": [
        {
          "output_type": "execute_result",
          "data": {
            "text/latex": "$\\displaystyle \\left( \\left[\\begin{matrix}1 & 0 & 0 & 0 & 0 & - \\frac{8221}{4340}\\\\0 & 1 & 0 & 0 & 0 & \\frac{8591}{8680}\\\\0 & 0 & 1 & 0 & 0 & \\frac{4695}{434}\\\\0 & 0 & 0 & 1 & 0 & - \\frac{459}{434}\\\\0 & 0 & 0 & 0 & 1 & \\frac{699}{434}\\end{matrix}\\right], \\  \\left( 0, \\  1, \\  2, \\  3, \\  4\\right)\\right)$",
            "text/plain": [
              "⎛⎡               -8221 ⎤                 ⎞\n",
              "⎜⎢1  0  0  0  0  ──────⎥                 ⎟\n",
              "⎜⎢                4340 ⎥                 ⎟\n",
              "⎜⎢                     ⎥                 ⎟\n",
              "⎜⎢                8591 ⎥                 ⎟\n",
              "⎜⎢0  1  0  0  0   ──── ⎥                 ⎟\n",
              "⎜⎢                8680 ⎥                 ⎟\n",
              "⎜⎢                     ⎥                 ⎟\n",
              "⎜⎢                4695 ⎥                 ⎟\n",
              "⎜⎢0  0  1  0  0   ──── ⎥, (0, 1, 2, 3, 4)⎟\n",
              "⎜⎢                434  ⎥                 ⎟\n",
              "⎜⎢                     ⎥                 ⎟\n",
              "⎜⎢               -459  ⎥                 ⎟\n",
              "⎜⎢0  0  0  1  0  ───── ⎥                 ⎟\n",
              "⎜⎢                434  ⎥                 ⎟\n",
              "⎜⎢                     ⎥                 ⎟\n",
              "⎜⎢                699  ⎥                 ⎟\n",
              "⎜⎢0  0  0  0  1   ───  ⎥                 ⎟\n",
              "⎝⎣                434  ⎦                 ⎠"
            ]
          },
          "metadata": {},
          "execution_count": 26
        }
      ]
    }
  ]
}