{
 "cells": [
  {
   "cell_type": "code",
   "execution_count": 5,
   "id": "e7cb8239",
   "metadata": {},
   "outputs": [],
   "source": [
    "import pandas as pd\n",
    "import numpy as np\n",
    "import glob"
   ]
  },
  {
   "cell_type": "code",
   "execution_count": 3,
   "id": "5cedc64b",
   "metadata": {},
   "outputs": [],
   "source": [
    "hmr_labels = pd.read_csv(\"~/Desktop/MATH7243_project/unzipped/XN_project/hemorrhage-labels.csv\")"
   ]
  },
  {
   "cell_type": "code",
   "execution_count": 4,
   "id": "f9f6dea4",
   "metadata": {},
   "outputs": [
    {
     "data": {
      "text/html": [
       "<div>\n",
       "<style scoped>\n",
       "    .dataframe tbody tr th:only-of-type {\n",
       "        vertical-align: middle;\n",
       "    }\n",
       "\n",
       "    .dataframe tbody tr th {\n",
       "        vertical-align: top;\n",
       "    }\n",
       "\n",
       "    .dataframe thead th {\n",
       "        text-align: right;\n",
       "    }\n",
       "</style>\n",
       "<table border=\"1\" class=\"dataframe\">\n",
       "  <thead>\n",
       "    <tr style=\"text-align: right;\">\n",
       "      <th></th>\n",
       "      <th>Image</th>\n",
       "      <th>any</th>\n",
       "      <th>epidural</th>\n",
       "      <th>intraparenchymal</th>\n",
       "      <th>intraventricular</th>\n",
       "      <th>subarachnoid</th>\n",
       "      <th>subdural</th>\n",
       "    </tr>\n",
       "  </thead>\n",
       "  <tbody>\n",
       "    <tr>\n",
       "      <th>0</th>\n",
       "      <td>ID_000012eaf</td>\n",
       "      <td>0</td>\n",
       "      <td>0</td>\n",
       "      <td>0</td>\n",
       "      <td>0</td>\n",
       "      <td>0</td>\n",
       "      <td>0</td>\n",
       "    </tr>\n",
       "    <tr>\n",
       "      <th>1</th>\n",
       "      <td>ID_000039fa0</td>\n",
       "      <td>0</td>\n",
       "      <td>0</td>\n",
       "      <td>0</td>\n",
       "      <td>0</td>\n",
       "      <td>0</td>\n",
       "      <td>0</td>\n",
       "    </tr>\n",
       "    <tr>\n",
       "      <th>2</th>\n",
       "      <td>ID_00005679d</td>\n",
       "      <td>0</td>\n",
       "      <td>0</td>\n",
       "      <td>0</td>\n",
       "      <td>0</td>\n",
       "      <td>0</td>\n",
       "      <td>0</td>\n",
       "    </tr>\n",
       "    <tr>\n",
       "      <th>3</th>\n",
       "      <td>ID_00008ce3c</td>\n",
       "      <td>0</td>\n",
       "      <td>0</td>\n",
       "      <td>0</td>\n",
       "      <td>0</td>\n",
       "      <td>0</td>\n",
       "      <td>0</td>\n",
       "    </tr>\n",
       "    <tr>\n",
       "      <th>4</th>\n",
       "      <td>ID_0000950d7</td>\n",
       "      <td>0</td>\n",
       "      <td>0</td>\n",
       "      <td>0</td>\n",
       "      <td>0</td>\n",
       "      <td>0</td>\n",
       "      <td>0</td>\n",
       "    </tr>\n",
       "  </tbody>\n",
       "</table>\n",
       "</div>"
      ],
      "text/plain": [
       "          Image  any  epidural  intraparenchymal  intraventricular  \\\n",
       "0  ID_000012eaf    0         0                 0                 0   \n",
       "1  ID_000039fa0    0         0                 0                 0   \n",
       "2  ID_00005679d    0         0                 0                 0   \n",
       "3  ID_00008ce3c    0         0                 0                 0   \n",
       "4  ID_0000950d7    0         0                 0                 0   \n",
       "\n",
       "   subarachnoid  subdural  \n",
       "0             0         0  \n",
       "1             0         0  \n",
       "2             0         0  \n",
       "3             0         0  \n",
       "4             0         0  "
      ]
     },
     "execution_count": 4,
     "metadata": {},
     "output_type": "execute_result"
    }
   ],
   "source": [
    "hmr_labels.head()"
   ]
  },
  {
   "cell_type": "code",
   "execution_count": 22,
   "id": "72dd4682",
   "metadata": {},
   "outputs": [],
   "source": [
    "def get_files_list(directory, sub_dir=0):\n",
    "    \n",
    "    if sub_dir == 0:\n",
    "        directory += \"/*\"\n",
    "    elif sub_dir == 1:\n",
    "        directory += \"/brain_bone_window/*\"\n",
    "    elif sub_dir == 2:\n",
    "        directory += \"/brain_window/*\"\n",
    "    elif sub_dir == 3:\n",
    "        directory += \"/max_contrast_window/*\"\n",
    "    elif sub_dir == 4:\n",
    "        directory += \"/subdural_window/*\"\n",
    "    else:\n",
    "        raise ValueError(\"Invalid subdirectory\")\n",
    "    \n",
    "    return glob.glob(directory)"
   ]
  },
  {
   "cell_type": "code",
   "execution_count": 29,
   "id": "e7f45914",
   "metadata": {},
   "outputs": [],
   "source": [
    "USERNAME = \"sakshisuman12\"\n",
    "PROJECT_ROOT_DIR = \"/Users/\" + USERNAME + \"/Desktop/MATH7243_project\"\n",
    "XN_PROJECT_DIR = PROJECT_ROOT_DIR + \"/unzipped/XN_project\"\n",
    "EPIDURAL_DIR = XN_PROJECT_DIR + \"/renders/epidural/\"\n",
    "INTERPARENCHYMAL_DIR = XN_PROJECT_DIR + \"/renders/interparenchymal/\"\n",
    "INTRAVENTRICULAR_DIR = XN_PROJECT_DIR + \"/renders/intraventricular/\"\n",
    "MULTI_DIR = XN_PROJECT_DIR + \"/renders/multi/\"\n",
    "NORMAL_DIR = XN_PROJECT_DIR + \"/renders/normal/\"\n",
    "SUBARACHNOID_DIR = XN_PROJECT_DIR + \"/renders/subarachnoid\"\n",
    "SUBDURAL_DIR = XN_PROJECT_DIR + \"/renders/subdural\"\n"
   ]
  },
  {
   "cell_type": "code",
   "execution_count": 61,
   "id": "72c2e67f",
   "metadata": {},
   "outputs": [],
   "source": [
    "epidural_bbw_files = [x.split(\"/\")[-1][:-4] for x in get_files_list(EPIDURAL_DIR, 1)]\n",
    "multi_bbw_files = [x.split(\"/\")[-1][:-4] for x in get_files_list(MULTI_DIR, 1)]\n"
   ]
  },
  {
   "cell_type": "code",
   "execution_count": 62,
   "id": "552fe5bc",
   "metadata": {},
   "outputs": [],
   "source": [
    "epidural_series = hmr_labels['epidural']"
   ]
  },
  {
   "cell_type": "code",
   "execution_count": 63,
   "id": "31a9d988",
   "metadata": {},
   "outputs": [
    {
     "data": {
      "text/plain": [
       "3145"
      ]
     },
     "execution_count": 63,
     "metadata": {},
     "output_type": "execute_result"
    }
   ],
   "source": [
    "epidural_series.sum()"
   ]
  },
  {
   "cell_type": "code",
   "execution_count": 64,
   "id": "8f4cb1c2",
   "metadata": {},
   "outputs": [],
   "source": [
    "s2 = set(hmr_labels['Image'][hmr_labels['epidural'] == 1])"
   ]
  },
  {
   "cell_type": "code",
   "execution_count": 71,
   "id": "44e1eed0",
   "metadata": {},
   "outputs": [],
   "source": [
    "s1 = set(epidural_bbw_files)"
   ]
  },
  {
   "cell_type": "code",
   "execution_count": 72,
   "id": "9c28c345",
   "metadata": {},
   "outputs": [
    {
     "data": {
      "text/plain": [
       "(1694, 3145)"
      ]
     },
     "execution_count": 72,
     "metadata": {},
     "output_type": "execute_result"
    }
   ],
   "source": [
    "len(s1), len(s2)"
   ]
  },
  {
   "cell_type": "code",
   "execution_count": 78,
   "id": "1b4bf281",
   "metadata": {},
   "outputs": [
    {
     "data": {
      "text/plain": [
       "True"
      ]
     },
     "execution_count": 78,
     "metadata": {},
     "output_type": "execute_result"
    }
   ],
   "source": [
    "np.all(np.intersect1d(np.setdiff1d(list(s2), list(s1)), multi_bbw_files) == np.setdiff1d(list(s2), list(s1)))"
   ]
  },
  {
   "cell_type": "code",
   "execution_count": null,
   "id": "31883de8",
   "metadata": {},
   "outputs": [],
   "source": []
  }
 ],
 "metadata": {
  "kernelspec": {
   "display_name": "Python 3 (ipykernel)",
   "language": "python",
   "name": "python3"
  },
  "language_info": {
   "codemirror_mode": {
    "name": "ipython",
    "version": 3
   },
   "file_extension": ".py",
   "mimetype": "text/x-python",
   "name": "python",
   "nbconvert_exporter": "python",
   "pygments_lexer": "ipython3",
   "version": "3.9.7"
  }
 },
 "nbformat": 4,
 "nbformat_minor": 5
}
