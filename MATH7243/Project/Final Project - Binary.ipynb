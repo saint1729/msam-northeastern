{
 "cells": [
  {
   "cell_type": "markdown",
   "metadata": {},
   "source": [
    "# Data Loading"
   ]
  },
  {
   "cell_type": "code",
   "execution_count": 1,
   "metadata": {},
   "outputs": [],
   "source": [
    "import tensorflow as tf\n",
    "from tensorflow import keras\n",
    "\n",
    "import pandas as pd\n",
    "import numpy as np\n",
    "from matplotlib import pyplot as plt\n",
    "import matplotlib\n",
    "\n",
    "from tensorflow.keras.models import Sequential\n",
    "from tensorflow.keras.layers import Dense, Activation, Conv2D, Flatten, Dropout, MaxPooling2D, BatchNormalization\n",
    "from tensorflow.keras.preprocessing.image import ImageDataGenerator\n",
    "from keras import regularizers, optimizers\n",
    "import os\n",
    "\n",
    "from sklearn.model_selection import train_test_split\n",
    "\n",
    "# Python ≥3.5 is required\n",
    "import sys\n",
    "assert sys.version_info >= (3, 5)\n",
    "\n",
    "# Scikit-Learn ≥0.20 is required\n",
    "import sklearn\n",
    "assert sklearn.__version__ >= \"0.20\"\n",
    "\n",
    "try:\n",
    "    # %tensorflow_version only exists in Colab.\n",
    "    %tensorflow_version 2.x\n",
    "except Exception:\n",
    "    pass\n",
    "\n",
    "# TensorFlow ≥2.0 is required\n",
    "import tensorflow as tf\n",
    "assert tf.__version__ >= \"2.0\"\n",
    "\n",
    "# Common imports\n",
    "import numpy as np\n",
    "import os\n",
    "\n",
    "# to make this notebook's output stable across runs\n",
    "np.random.seed(42)\n",
    "\n",
    "# To plot pretty figures\n",
    "%matplotlib inline\n",
    "import matplotlib as mpl\n",
    "import matplotlib.pyplot as plt\n",
    "mpl.rc('axes', labelsize=14)\n",
    "mpl.rc('xtick', labelsize=12)\n",
    "mpl.rc('ytick', labelsize=12)\n",
    "\n",
    "from sklearn.datasets import load_iris\n",
    "from sklearn.linear_model import Perceptron "
   ]
  },
  {
   "cell_type": "code",
   "execution_count": 2,
   "metadata": {},
   "outputs": [
    {
     "name": "stdout",
     "output_type": "stream",
     "text": [
      "Found 12394 files belonging to 2 classes.\n",
      "Using 9916 files for training.\n",
      "Metal device set to: Apple M1 Max\n",
      "Found 12394 files belonging to 2 classes.\n",
      "Using 2478 files for validation.\n",
      "<class 'tensorflow.python.data.ops.dataset_ops.BatchDataset'>\n"
     ]
    },
    {
     "name": "stderr",
     "output_type": "stream",
     "text": [
      "2022-04-07 02:03:55.702513: I tensorflow/core/common_runtime/pluggable_device/pluggable_device_factory.cc:305] Could not identify NUMA node of platform GPU ID 0, defaulting to 0. Your kernel may not have been built with NUMA support.\n",
      "2022-04-07 02:03:55.702686: I tensorflow/core/common_runtime/pluggable_device/pluggable_device_factory.cc:271] Created TensorFlow device (/job:localhost/replica:0/task:0/device:GPU:0 with 0 MB memory) -> physical PluggableDevice (device: 0, name: METAL, pci bus id: <undefined>)\n"
     ]
    },
    {
     "data": {
      "text/plain": [
       "<BatchDataset element_spec=(TensorSpec(shape=(None, 512, 512, 3), dtype=tf.float32, name=None), TensorSpec(shape=(None, 1), dtype=tf.float32, name=None))>"
      ]
     },
     "execution_count": 2,
     "metadata": {},
     "output_type": "execute_result"
    }
   ],
   "source": [
    "file_dir = \"/Users/sakshisuman12/Desktop/MATH7243_project/unzipped/XN_project/renders_small/\"\n",
    "\n",
    "training_dataset = tf.keras.preprocessing.image_dataset_from_directory(\n",
    "    file_dir, image_size=(512, 512), batch_size=64, validation_split=0.2,\n",
    "    subset=\"training\", seed=123, label_mode=\"binary\",\n",
    ")\n",
    "\n",
    "validation_dataset = tf.keras.preprocessing.image_dataset_from_directory(\n",
    "    file_dir, image_size=(512, 512), batch_size=64, validation_split=0.2,\n",
    "    subset=\"validation\", seed=123, label_mode=\"binary\",\n",
    ")\n",
    "\n",
    "class_names = training_dataset.class_names\n",
    "print(type(training_dataset))\n",
    "training_dataset"
   ]
  },
  {
   "cell_type": "code",
   "execution_count": 3,
   "metadata": {},
   "outputs": [
    {
     "data": {
      "text/plain": [
       "<BatchDataset element_spec=(TensorSpec(shape=(None, 512, 512, 3), dtype=tf.float32, name=None), TensorSpec(shape=(None, 1), dtype=tf.float32, name=None))>"
      ]
     },
     "execution_count": 3,
     "metadata": {},
     "output_type": "execute_result"
    }
   ],
   "source": [
    "validation_dataset"
   ]
  },
  {
   "cell_type": "code",
   "execution_count": 4,
   "metadata": {},
   "outputs": [
    {
     "name": "stderr",
     "output_type": "stream",
     "text": [
      "2022-04-07 02:03:55.862762: W tensorflow/core/platform/profile_utils/cpu_utils.cc:128] Failed to get CPU frequency: 0 Hz\n"
     ]
    },
    {
     "name": "stdout",
     "output_type": "stream",
     "text": [
      "(64, 512, 512, 3)\n",
      "(64, 1)\n"
     ]
    }
   ],
   "source": [
    "for image, label in training_dataset.take(1):\n",
    "    print(image.shape)\n",
    "    print(label.shape)"
   ]
  },
  {
   "cell_type": "code",
   "execution_count": 5,
   "metadata": {},
   "outputs": [],
   "source": [
    "def preprocess(image, label):\n",
    "    resized_image = tf.image.resize(image, [224, 224])\n",
    "    final_image = keras.applications.xception.preprocess_input(resized_image)\n",
    "    return final_image, label"
   ]
  },
  {
   "cell_type": "code",
   "execution_count": 6,
   "metadata": {},
   "outputs": [],
   "source": [
    "class_weight = {0: 1/10000, 1: 1/1600}"
   ]
  },
  {
   "cell_type": "code",
   "execution_count": 7,
   "metadata": {},
   "outputs": [
    {
     "name": "stdout",
     "output_type": "stream",
     "text": [
      "<BatchDataset element_spec=(TensorSpec(shape=(None, 512, 512, 3), dtype=tf.float32, name=None), TensorSpec(shape=(None, 1), dtype=tf.float32, name=None))>\n",
      "<MapDataset element_spec=(TensorSpec(shape=(None, 224, 224, 3), dtype=tf.float32, name=None), TensorSpec(shape=(None, 1), dtype=tf.float32, name=None))>\n"
     ]
    }
   ],
   "source": [
    "batch_size = 64\n",
    "print(training_dataset)\n",
    "training_dataset = training_dataset.map(preprocess)\n",
    "print(training_dataset)"
   ]
  },
  {
   "cell_type": "code",
   "execution_count": 8,
   "metadata": {},
   "outputs": [
    {
     "data": {
      "text/plain": [
       "<bound method DatasetV2.map of <MapDataset element_spec=(TensorSpec(shape=(None, 224, 224, 3), dtype=tf.float32, name=None), TensorSpec(shape=(None, 1), dtype=tf.float32, name=None))>>"
      ]
     },
     "execution_count": 8,
     "metadata": {},
     "output_type": "execute_result"
    }
   ],
   "source": [
    "training_dataset\n",
    "training_dataset.map"
   ]
  },
  {
   "cell_type": "code",
   "execution_count": 14,
   "metadata": {},
   "outputs": [],
   "source": [
    "n_classes = len(class_names)\n",
    "\n",
    "n_classes = 1 if n_classes == 2 else n_classes"
   ]
  },
  {
   "cell_type": "code",
   "execution_count": 15,
   "metadata": {},
   "outputs": [
    {
     "name": "stdout",
     "output_type": "stream",
     "text": [
      "Model: \"model_1\"\n",
      "__________________________________________________________________________________________________\n",
      " Layer (type)                   Output Shape         Param #     Connected to                     \n",
      "==================================================================================================\n",
      " input_2 (InputLayer)           [(None, None, None,  0           []                               \n",
      "                                 3)]                                                              \n",
      "                                                                                                  \n",
      " block1_conv1 (Conv2D)          (None, None, None,   864         ['input_2[0][0]']                \n",
      "                                32)                                                               \n",
      "                                                                                                  \n",
      " block1_conv1_bn (BatchNormaliz  (None, None, None,   128        ['block1_conv1[0][0]']           \n",
      " ation)                         32)                                                               \n",
      "                                                                                                  \n",
      " block1_conv1_act (Activation)  (None, None, None,   0           ['block1_conv1_bn[0][0]']        \n",
      "                                32)                                                               \n",
      "                                                                                                  \n",
      " block1_conv2 (Conv2D)          (None, None, None,   18432       ['block1_conv1_act[0][0]']       \n",
      "                                64)                                                               \n",
      "                                                                                                  \n",
      " block1_conv2_bn (BatchNormaliz  (None, None, None,   256        ['block1_conv2[0][0]']           \n",
      " ation)                         64)                                                               \n",
      "                                                                                                  \n",
      " block1_conv2_act (Activation)  (None, None, None,   0           ['block1_conv2_bn[0][0]']        \n",
      "                                64)                                                               \n",
      "                                                                                                  \n",
      " block2_sepconv1 (SeparableConv  (None, None, None,   8768       ['block1_conv2_act[0][0]']       \n",
      " 2D)                            128)                                                              \n",
      "                                                                                                  \n",
      " block2_sepconv1_bn (BatchNorma  (None, None, None,   512        ['block2_sepconv1[0][0]']        \n",
      " lization)                      128)                                                              \n",
      "                                                                                                  \n",
      " block2_sepconv2_act (Activatio  (None, None, None,   0          ['block2_sepconv1_bn[0][0]']     \n",
      " n)                             128)                                                              \n",
      "                                                                                                  \n",
      " block2_sepconv2 (SeparableConv  (None, None, None,   17536      ['block2_sepconv2_act[0][0]']    \n",
      " 2D)                            128)                                                              \n",
      "                                                                                                  \n",
      " block2_sepconv2_bn (BatchNorma  (None, None, None,   512        ['block2_sepconv2[0][0]']        \n",
      " lization)                      128)                                                              \n",
      "                                                                                                  \n",
      " conv2d_4 (Conv2D)              (None, None, None,   8192        ['block1_conv2_act[0][0]']       \n",
      "                                128)                                                              \n",
      "                                                                                                  \n",
      " block2_pool (MaxPooling2D)     (None, None, None,   0           ['block2_sepconv2_bn[0][0]']     \n",
      "                                128)                                                              \n",
      "                                                                                                  \n",
      " batch_normalization_4 (BatchNo  (None, None, None,   512        ['conv2d_4[0][0]']               \n",
      " rmalization)                   128)                                                              \n",
      "                                                                                                  \n",
      " add_12 (Add)                   (None, None, None,   0           ['block2_pool[0][0]',            \n",
      "                                128)                              'batch_normalization_4[0][0]']  \n",
      "                                                                                                  \n",
      " block3_sepconv1_act (Activatio  (None, None, None,   0          ['add_12[0][0]']                 \n",
      " n)                             128)                                                              \n",
      "                                                                                                  \n",
      " block3_sepconv1 (SeparableConv  (None, None, None,   33920      ['block3_sepconv1_act[0][0]']    \n",
      " 2D)                            256)                                                              \n",
      "                                                                                                  \n",
      " block3_sepconv1_bn (BatchNorma  (None, None, None,   1024       ['block3_sepconv1[0][0]']        \n",
      " lization)                      256)                                                              \n",
      "                                                                                                  \n",
      " block3_sepconv2_act (Activatio  (None, None, None,   0          ['block3_sepconv1_bn[0][0]']     \n",
      " n)                             256)                                                              \n",
      "                                                                                                  \n",
      " block3_sepconv2 (SeparableConv  (None, None, None,   67840      ['block3_sepconv2_act[0][0]']    \n",
      " 2D)                            256)                                                              \n",
      "                                                                                                  \n",
      " block3_sepconv2_bn (BatchNorma  (None, None, None,   1024       ['block3_sepconv2[0][0]']        \n",
      " lization)                      256)                                                              \n",
      "                                                                                                  \n",
      " conv2d_5 (Conv2D)              (None, None, None,   32768       ['add_12[0][0]']                 \n",
      "                                256)                                                              \n",
      "                                                                                                  \n",
      " block3_pool (MaxPooling2D)     (None, None, None,   0           ['block3_sepconv2_bn[0][0]']     \n",
      "                                256)                                                              \n",
      "                                                                                                  \n",
      " batch_normalization_5 (BatchNo  (None, None, None,   1024       ['conv2d_5[0][0]']               \n",
      " rmalization)                   256)                                                              \n",
      "                                                                                                  \n",
      " add_13 (Add)                   (None, None, None,   0           ['block3_pool[0][0]',            \n",
      "                                256)                              'batch_normalization_5[0][0]']  \n",
      "                                                                                                  \n",
      " block4_sepconv1_act (Activatio  (None, None, None,   0          ['add_13[0][0]']                 \n",
      " n)                             256)                                                              \n"
     ]
    },
    {
     "name": "stdout",
     "output_type": "stream",
     "text": [
      "                                                                                                  \n",
      " block4_sepconv1 (SeparableConv  (None, None, None,   188672     ['block4_sepconv1_act[0][0]']    \n",
      " 2D)                            728)                                                              \n",
      "                                                                                                  \n",
      " block4_sepconv1_bn (BatchNorma  (None, None, None,   2912       ['block4_sepconv1[0][0]']        \n",
      " lization)                      728)                                                              \n",
      "                                                                                                  \n",
      " block4_sepconv2_act (Activatio  (None, None, None,   0          ['block4_sepconv1_bn[0][0]']     \n",
      " n)                             728)                                                              \n",
      "                                                                                                  \n",
      " block4_sepconv2 (SeparableConv  (None, None, None,   536536     ['block4_sepconv2_act[0][0]']    \n",
      " 2D)                            728)                                                              \n",
      "                                                                                                  \n",
      " block4_sepconv2_bn (BatchNorma  (None, None, None,   2912       ['block4_sepconv2[0][0]']        \n",
      " lization)                      728)                                                              \n",
      "                                                                                                  \n",
      " conv2d_6 (Conv2D)              (None, None, None,   186368      ['add_13[0][0]']                 \n",
      "                                728)                                                              \n",
      "                                                                                                  \n",
      " block4_pool (MaxPooling2D)     (None, None, None,   0           ['block4_sepconv2_bn[0][0]']     \n",
      "                                728)                                                              \n",
      "                                                                                                  \n",
      " batch_normalization_6 (BatchNo  (None, None, None,   2912       ['conv2d_6[0][0]']               \n",
      " rmalization)                   728)                                                              \n",
      "                                                                                                  \n",
      " add_14 (Add)                   (None, None, None,   0           ['block4_pool[0][0]',            \n",
      "                                728)                              'batch_normalization_6[0][0]']  \n",
      "                                                                                                  \n",
      " block5_sepconv1_act (Activatio  (None, None, None,   0          ['add_14[0][0]']                 \n",
      " n)                             728)                                                              \n",
      "                                                                                                  \n",
      " block5_sepconv1 (SeparableConv  (None, None, None,   536536     ['block5_sepconv1_act[0][0]']    \n",
      " 2D)                            728)                                                              \n",
      "                                                                                                  \n",
      " block5_sepconv1_bn (BatchNorma  (None, None, None,   2912       ['block5_sepconv1[0][0]']        \n",
      " lization)                      728)                                                              \n",
      "                                                                                                  \n",
      " block5_sepconv2_act (Activatio  (None, None, None,   0          ['block5_sepconv1_bn[0][0]']     \n",
      " n)                             728)                                                              \n",
      "                                                                                                  \n",
      " block5_sepconv2 (SeparableConv  (None, None, None,   536536     ['block5_sepconv2_act[0][0]']    \n",
      " 2D)                            728)                                                              \n",
      "                                                                                                  \n",
      " block5_sepconv2_bn (BatchNorma  (None, None, None,   2912       ['block5_sepconv2[0][0]']        \n",
      " lization)                      728)                                                              \n",
      "                                                                                                  \n",
      " block5_sepconv3_act (Activatio  (None, None, None,   0          ['block5_sepconv2_bn[0][0]']     \n",
      " n)                             728)                                                              \n",
      "                                                                                                  \n",
      " block5_sepconv3 (SeparableConv  (None, None, None,   536536     ['block5_sepconv3_act[0][0]']    \n",
      " 2D)                            728)                                                              \n",
      "                                                                                                  \n",
      " block5_sepconv3_bn (BatchNorma  (None, None, None,   2912       ['block5_sepconv3[0][0]']        \n",
      " lization)                      728)                                                              \n",
      "                                                                                                  \n",
      " add_15 (Add)                   (None, None, None,   0           ['block5_sepconv3_bn[0][0]',     \n",
      "                                728)                              'add_14[0][0]']                 \n",
      "                                                                                                  \n",
      " block6_sepconv1_act (Activatio  (None, None, None,   0          ['add_15[0][0]']                 \n",
      " n)                             728)                                                              \n",
      "                                                                                                  \n",
      " block6_sepconv1 (SeparableConv  (None, None, None,   536536     ['block6_sepconv1_act[0][0]']    \n",
      " 2D)                            728)                                                              \n",
      "                                                                                                  \n",
      " block6_sepconv1_bn (BatchNorma  (None, None, None,   2912       ['block6_sepconv1[0][0]']        \n",
      " lization)                      728)                                                              \n",
      "                                                                                                  \n",
      " block6_sepconv2_act (Activatio  (None, None, None,   0          ['block6_sepconv1_bn[0][0]']     \n",
      " n)                             728)                                                              \n",
      "                                                                                                  \n",
      " block6_sepconv2 (SeparableConv  (None, None, None,   536536     ['block6_sepconv2_act[0][0]']    \n",
      " 2D)                            728)                                                              \n",
      "                                                                                                  \n",
      " block6_sepconv2_bn (BatchNorma  (None, None, None,   2912       ['block6_sepconv2[0][0]']        \n",
      " lization)                      728)                                                              \n",
      "                                                                                                  \n",
      " block6_sepconv3_act (Activatio  (None, None, None,   0          ['block6_sepconv2_bn[0][0]']     \n",
      " n)                             728)                                                              \n",
      "                                                                                                  \n",
      " block6_sepconv3 (SeparableConv  (None, None, None,   536536     ['block6_sepconv3_act[0][0]']    \n",
      " 2D)                            728)                                                              \n",
      "                                                                                                  \n",
      " block6_sepconv3_bn (BatchNorma  (None, None, None,   2912       ['block6_sepconv3[0][0]']        \n"
     ]
    },
    {
     "name": "stdout",
     "output_type": "stream",
     "text": [
      " lization)                      728)                                                              \n",
      "                                                                                                  \n",
      " add_16 (Add)                   (None, None, None,   0           ['block6_sepconv3_bn[0][0]',     \n",
      "                                728)                              'add_15[0][0]']                 \n",
      "                                                                                                  \n",
      " block7_sepconv1_act (Activatio  (None, None, None,   0          ['add_16[0][0]']                 \n",
      " n)                             728)                                                              \n",
      "                                                                                                  \n",
      " block7_sepconv1 (SeparableConv  (None, None, None,   536536     ['block7_sepconv1_act[0][0]']    \n",
      " 2D)                            728)                                                              \n",
      "                                                                                                  \n",
      " block7_sepconv1_bn (BatchNorma  (None, None, None,   2912       ['block7_sepconv1[0][0]']        \n",
      " lization)                      728)                                                              \n",
      "                                                                                                  \n",
      " block7_sepconv2_act (Activatio  (None, None, None,   0          ['block7_sepconv1_bn[0][0]']     \n",
      " n)                             728)                                                              \n",
      "                                                                                                  \n",
      " block7_sepconv2 (SeparableConv  (None, None, None,   536536     ['block7_sepconv2_act[0][0]']    \n",
      " 2D)                            728)                                                              \n",
      "                                                                                                  \n",
      " block7_sepconv2_bn (BatchNorma  (None, None, None,   2912       ['block7_sepconv2[0][0]']        \n",
      " lization)                      728)                                                              \n",
      "                                                                                                  \n",
      " block7_sepconv3_act (Activatio  (None, None, None,   0          ['block7_sepconv2_bn[0][0]']     \n",
      " n)                             728)                                                              \n",
      "                                                                                                  \n",
      " block7_sepconv3 (SeparableConv  (None, None, None,   536536     ['block7_sepconv3_act[0][0]']    \n",
      " 2D)                            728)                                                              \n",
      "                                                                                                  \n",
      " block7_sepconv3_bn (BatchNorma  (None, None, None,   2912       ['block7_sepconv3[0][0]']        \n",
      " lization)                      728)                                                              \n",
      "                                                                                                  \n",
      " add_17 (Add)                   (None, None, None,   0           ['block7_sepconv3_bn[0][0]',     \n",
      "                                728)                              'add_16[0][0]']                 \n",
      "                                                                                                  \n",
      " block8_sepconv1_act (Activatio  (None, None, None,   0          ['add_17[0][0]']                 \n",
      " n)                             728)                                                              \n",
      "                                                                                                  \n",
      " block8_sepconv1 (SeparableConv  (None, None, None,   536536     ['block8_sepconv1_act[0][0]']    \n",
      " 2D)                            728)                                                              \n",
      "                                                                                                  \n",
      " block8_sepconv1_bn (BatchNorma  (None, None, None,   2912       ['block8_sepconv1[0][0]']        \n",
      " lization)                      728)                                                              \n",
      "                                                                                                  \n",
      " block8_sepconv2_act (Activatio  (None, None, None,   0          ['block8_sepconv1_bn[0][0]']     \n",
      " n)                             728)                                                              \n",
      "                                                                                                  \n",
      " block8_sepconv2 (SeparableConv  (None, None, None,   536536     ['block8_sepconv2_act[0][0]']    \n",
      " 2D)                            728)                                                              \n",
      "                                                                                                  \n",
      " block8_sepconv2_bn (BatchNorma  (None, None, None,   2912       ['block8_sepconv2[0][0]']        \n",
      " lization)                      728)                                                              \n",
      "                                                                                                  \n",
      " block8_sepconv3_act (Activatio  (None, None, None,   0          ['block8_sepconv2_bn[0][0]']     \n",
      " n)                             728)                                                              \n",
      "                                                                                                  \n",
      " block8_sepconv3 (SeparableConv  (None, None, None,   536536     ['block8_sepconv3_act[0][0]']    \n",
      " 2D)                            728)                                                              \n",
      "                                                                                                  \n",
      " block8_sepconv3_bn (BatchNorma  (None, None, None,   2912       ['block8_sepconv3[0][0]']        \n",
      " lization)                      728)                                                              \n",
      "                                                                                                  \n",
      " add_18 (Add)                   (None, None, None,   0           ['block8_sepconv3_bn[0][0]',     \n",
      "                                728)                              'add_17[0][0]']                 \n",
      "                                                                                                  \n",
      " block9_sepconv1_act (Activatio  (None, None, None,   0          ['add_18[0][0]']                 \n",
      " n)                             728)                                                              \n",
      "                                                                                                  \n",
      " block9_sepconv1 (SeparableConv  (None, None, None,   536536     ['block9_sepconv1_act[0][0]']    \n",
      " 2D)                            728)                                                              \n",
      "                                                                                                  \n",
      " block9_sepconv1_bn (BatchNorma  (None, None, None,   2912       ['block9_sepconv1[0][0]']        \n",
      " lization)                      728)                                                              \n",
      "                                                                                                  \n",
      " block9_sepconv2_act (Activatio  (None, None, None,   0          ['block9_sepconv1_bn[0][0]']     \n",
      " n)                             728)                                                              \n",
      "                                                                                                  \n",
      " block9_sepconv2 (SeparableConv  (None, None, None,   536536     ['block9_sepconv2_act[0][0]']    \n",
      " 2D)                            728)                                                              \n",
      "                                                                                                  \n",
      " block9_sepconv2_bn (BatchNorma  (None, None, None,   2912       ['block9_sepconv2[0][0]']        \n",
      " lization)                      728)                                                              \n",
      "                                                                                                  \n"
     ]
    },
    {
     "name": "stdout",
     "output_type": "stream",
     "text": [
      " block9_sepconv3_act (Activatio  (None, None, None,   0          ['block9_sepconv2_bn[0][0]']     \n",
      " n)                             728)                                                              \n",
      "                                                                                                  \n",
      " block9_sepconv3 (SeparableConv  (None, None, None,   536536     ['block9_sepconv3_act[0][0]']    \n",
      " 2D)                            728)                                                              \n",
      "                                                                                                  \n",
      " block9_sepconv3_bn (BatchNorma  (None, None, None,   2912       ['block9_sepconv3[0][0]']        \n",
      " lization)                      728)                                                              \n",
      "                                                                                                  \n",
      " add_19 (Add)                   (None, None, None,   0           ['block9_sepconv3_bn[0][0]',     \n",
      "                                728)                              'add_18[0][0]']                 \n",
      "                                                                                                  \n",
      " block10_sepconv1_act (Activati  (None, None, None,   0          ['add_19[0][0]']                 \n",
      " on)                            728)                                                              \n",
      "                                                                                                  \n",
      " block10_sepconv1 (SeparableCon  (None, None, None,   536536     ['block10_sepconv1_act[0][0]']   \n",
      " v2D)                           728)                                                              \n",
      "                                                                                                  \n",
      " block10_sepconv1_bn (BatchNorm  (None, None, None,   2912       ['block10_sepconv1[0][0]']       \n",
      " alization)                     728)                                                              \n",
      "                                                                                                  \n",
      " block10_sepconv2_act (Activati  (None, None, None,   0          ['block10_sepconv1_bn[0][0]']    \n",
      " on)                            728)                                                              \n",
      "                                                                                                  \n",
      " block10_sepconv2 (SeparableCon  (None, None, None,   536536     ['block10_sepconv2_act[0][0]']   \n",
      " v2D)                           728)                                                              \n",
      "                                                                                                  \n",
      " block10_sepconv2_bn (BatchNorm  (None, None, None,   2912       ['block10_sepconv2[0][0]']       \n",
      " alization)                     728)                                                              \n",
      "                                                                                                  \n",
      " block10_sepconv3_act (Activati  (None, None, None,   0          ['block10_sepconv2_bn[0][0]']    \n",
      " on)                            728)                                                              \n",
      "                                                                                                  \n",
      " block10_sepconv3 (SeparableCon  (None, None, None,   536536     ['block10_sepconv3_act[0][0]']   \n",
      " v2D)                           728)                                                              \n",
      "                                                                                                  \n",
      " block10_sepconv3_bn (BatchNorm  (None, None, None,   2912       ['block10_sepconv3[0][0]']       \n",
      " alization)                     728)                                                              \n",
      "                                                                                                  \n",
      " add_20 (Add)                   (None, None, None,   0           ['block10_sepconv3_bn[0][0]',    \n",
      "                                728)                              'add_19[0][0]']                 \n",
      "                                                                                                  \n",
      " block11_sepconv1_act (Activati  (None, None, None,   0          ['add_20[0][0]']                 \n",
      " on)                            728)                                                              \n",
      "                                                                                                  \n",
      " block11_sepconv1 (SeparableCon  (None, None, None,   536536     ['block11_sepconv1_act[0][0]']   \n",
      " v2D)                           728)                                                              \n",
      "                                                                                                  \n",
      " block11_sepconv1_bn (BatchNorm  (None, None, None,   2912       ['block11_sepconv1[0][0]']       \n",
      " alization)                     728)                                                              \n",
      "                                                                                                  \n",
      " block11_sepconv2_act (Activati  (None, None, None,   0          ['block11_sepconv1_bn[0][0]']    \n",
      " on)                            728)                                                              \n",
      "                                                                                                  \n",
      " block11_sepconv2 (SeparableCon  (None, None, None,   536536     ['block11_sepconv2_act[0][0]']   \n",
      " v2D)                           728)                                                              \n",
      "                                                                                                  \n",
      " block11_sepconv2_bn (BatchNorm  (None, None, None,   2912       ['block11_sepconv2[0][0]']       \n",
      " alization)                     728)                                                              \n",
      "                                                                                                  \n",
      " block11_sepconv3_act (Activati  (None, None, None,   0          ['block11_sepconv2_bn[0][0]']    \n",
      " on)                            728)                                                              \n",
      "                                                                                                  \n",
      " block11_sepconv3 (SeparableCon  (None, None, None,   536536     ['block11_sepconv3_act[0][0]']   \n",
      " v2D)                           728)                                                              \n",
      "                                                                                                  \n",
      " block11_sepconv3_bn (BatchNorm  (None, None, None,   2912       ['block11_sepconv3[0][0]']       \n",
      " alization)                     728)                                                              \n",
      "                                                                                                  \n",
      " add_21 (Add)                   (None, None, None,   0           ['block11_sepconv3_bn[0][0]',    \n",
      "                                728)                              'add_20[0][0]']                 \n",
      "                                                                                                  \n",
      " block12_sepconv1_act (Activati  (None, None, None,   0          ['add_21[0][0]']                 \n",
      " on)                            728)                                                              \n",
      "                                                                                                  \n",
      " block12_sepconv1 (SeparableCon  (None, None, None,   536536     ['block12_sepconv1_act[0][0]']   \n",
      " v2D)                           728)                                                              \n",
      "                                                                                                  \n",
      " block12_sepconv1_bn (BatchNorm  (None, None, None,   2912       ['block12_sepconv1[0][0]']       \n",
      " alization)                     728)                                                              \n",
      "                                                                                                  \n",
      " block12_sepconv2_act (Activati  (None, None, None,   0          ['block12_sepconv1_bn[0][0]']    \n",
      " on)                            728)                                                              \n"
     ]
    },
    {
     "name": "stdout",
     "output_type": "stream",
     "text": [
      "                                                                                                  \n",
      " block12_sepconv2 (SeparableCon  (None, None, None,   536536     ['block12_sepconv2_act[0][0]']   \n",
      " v2D)                           728)                                                              \n",
      "                                                                                                  \n",
      " block12_sepconv2_bn (BatchNorm  (None, None, None,   2912       ['block12_sepconv2[0][0]']       \n",
      " alization)                     728)                                                              \n",
      "                                                                                                  \n",
      " block12_sepconv3_act (Activati  (None, None, None,   0          ['block12_sepconv2_bn[0][0]']    \n",
      " on)                            728)                                                              \n",
      "                                                                                                  \n",
      " block12_sepconv3 (SeparableCon  (None, None, None,   536536     ['block12_sepconv3_act[0][0]']   \n",
      " v2D)                           728)                                                              \n",
      "                                                                                                  \n",
      " block12_sepconv3_bn (BatchNorm  (None, None, None,   2912       ['block12_sepconv3[0][0]']       \n",
      " alization)                     728)                                                              \n",
      "                                                                                                  \n",
      " add_22 (Add)                   (None, None, None,   0           ['block12_sepconv3_bn[0][0]',    \n",
      "                                728)                              'add_21[0][0]']                 \n",
      "                                                                                                  \n",
      " block13_sepconv1_act (Activati  (None, None, None,   0          ['add_22[0][0]']                 \n",
      " on)                            728)                                                              \n",
      "                                                                                                  \n",
      " block13_sepconv1 (SeparableCon  (None, None, None,   536536     ['block13_sepconv1_act[0][0]']   \n",
      " v2D)                           728)                                                              \n",
      "                                                                                                  \n",
      " block13_sepconv1_bn (BatchNorm  (None, None, None,   2912       ['block13_sepconv1[0][0]']       \n",
      " alization)                     728)                                                              \n",
      "                                                                                                  \n",
      " block13_sepconv2_act (Activati  (None, None, None,   0          ['block13_sepconv1_bn[0][0]']    \n",
      " on)                            728)                                                              \n",
      "                                                                                                  \n",
      " block13_sepconv2 (SeparableCon  (None, None, None,   752024     ['block13_sepconv2_act[0][0]']   \n",
      " v2D)                           1024)                                                             \n",
      "                                                                                                  \n",
      " block13_sepconv2_bn (BatchNorm  (None, None, None,   4096       ['block13_sepconv2[0][0]']       \n",
      " alization)                     1024)                                                             \n",
      "                                                                                                  \n",
      " conv2d_7 (Conv2D)              (None, None, None,   745472      ['add_22[0][0]']                 \n",
      "                                1024)                                                             \n",
      "                                                                                                  \n",
      " block13_pool (MaxPooling2D)    (None, None, None,   0           ['block13_sepconv2_bn[0][0]']    \n",
      "                                1024)                                                             \n",
      "                                                                                                  \n",
      " batch_normalization_7 (BatchNo  (None, None, None,   4096       ['conv2d_7[0][0]']               \n",
      " rmalization)                   1024)                                                             \n",
      "                                                                                                  \n",
      " add_23 (Add)                   (None, None, None,   0           ['block13_pool[0][0]',           \n",
      "                                1024)                             'batch_normalization_7[0][0]']  \n",
      "                                                                                                  \n",
      " block14_sepconv1 (SeparableCon  (None, None, None,   1582080    ['add_23[0][0]']                 \n",
      " v2D)                           1536)                                                             \n",
      "                                                                                                  \n",
      " block14_sepconv1_bn (BatchNorm  (None, None, None,   6144       ['block14_sepconv1[0][0]']       \n",
      " alization)                     1536)                                                             \n",
      "                                                                                                  \n",
      " block14_sepconv1_act (Activati  (None, None, None,   0          ['block14_sepconv1_bn[0][0]']    \n",
      " on)                            1536)                                                             \n",
      "                                                                                                  \n",
      " block14_sepconv2 (SeparableCon  (None, None, None,   3159552    ['block14_sepconv1_act[0][0]']   \n",
      " v2D)                           2048)                                                             \n",
      "                                                                                                  \n",
      " block14_sepconv2_bn (BatchNorm  (None, None, None,   8192       ['block14_sepconv2[0][0]']       \n",
      " alization)                     2048)                                                             \n",
      "                                                                                                  \n",
      " block14_sepconv2_act (Activati  (None, None, None,   0          ['block14_sepconv2_bn[0][0]']    \n",
      " on)                            2048)                                                             \n",
      "                                                                                                  \n",
      " global_average_pooling2d_1 (Gl  (None, 2048)        0           ['block14_sepconv2_act[0][0]']   \n",
      " obalAveragePooling2D)                                                                            \n",
      "                                                                                                  \n",
      " dense_1 (Dense)                (None, 1)            2049        ['global_average_pooling2d_1[0][0\n",
      "                                                                 ]']                              \n",
      "                                                                                                  \n",
      "==================================================================================================\n",
      "Total params: 20,863,529\n",
      "Trainable params: 20,809,001\n",
      "Non-trainable params: 54,528\n",
      "__________________________________________________________________________________________________\n"
     ]
    }
   ],
   "source": [
    "base_model = tf.keras.applications.xception.Xception(weights=\"imagenet\", include_top=False)\n",
    "avg = tf.keras.layers.GlobalAveragePooling2D()(base_model.output)\n",
    "output = tf.keras.layers.Dense(n_classes, activation=\"sigmoid\")(avg)\n",
    "model = tf.keras.Model(inputs=base_model.input, outputs=output)\n",
    "\n",
    "model.summary()"
   ]
  },
  {
   "cell_type": "code",
   "execution_count": 10,
   "metadata": {},
   "outputs": [],
   "source": [
    "for layer in base_model.layers:\n",
    "    layer.trainable = False"
   ]
  },
  {
   "cell_type": "code",
   "execution_count": 11,
   "metadata": {},
   "outputs": [
    {
     "name": "stdout",
     "output_type": "stream",
     "text": [
      "Epoch 1/5\n"
     ]
    },
    {
     "name": "stderr",
     "output_type": "stream",
     "text": [
      "2022-04-07 02:04:05.155177: I tensorflow/core/grappler/optimizers/custom_graph_optimizer_registry.cc:113] Plugin optimizer for device_type GPU is enabled.\n"
     ]
    },
    {
     "name": "stdout",
     "output_type": "stream",
     "text": [
      "155/155 [==============================] - ETA: 0s - loss: 2.9521e-04 - auc: 0.7377 - false_positives: 2716.0000 - false_negatives: 433.0000 - precision: 0.2518 - recall: 0.6785"
     ]
    },
    {
     "name": "stderr",
     "output_type": "stream",
     "text": [
      "2022-04-07 02:04:42.482757: I tensorflow/core/grappler/optimizers/custom_graph_optimizer_registry.cc:113] Plugin optimizer for device_type GPU is enabled.\n"
     ]
    },
    {
     "name": "stdout",
     "output_type": "stream",
     "text": [
      "155/155 [==============================] - 84s 533ms/step - loss: 2.9521e-04 - auc: 0.7377 - false_positives: 2716.0000 - false_negatives: 433.0000 - precision: 0.2518 - recall: 0.6785 - val_loss: 14.8636 - val_auc: 0.4972 - val_false_positives: 2.0000 - val_false_negatives: 347.0000 - val_precision: 0.0000e+00 - val_recall: 0.0000e+00\n",
      "Epoch 2/5\n",
      "155/155 [==============================] - 88s 564ms/step - loss: 1.5630e-04 - auc: 0.8376 - false_positives: 2039.0000 - false_negatives: 309.0000 - precision: 0.3373 - recall: 0.7706 - val_loss: 21.9800 - val_auc: 0.4946 - val_false_positives: 13.0000 - val_false_negatives: 347.0000 - val_precision: 0.0000e+00 - val_recall: 0.0000e+00\n",
      "Epoch 3/5\n",
      "155/155 [==============================] - 89s 570ms/step - loss: 1.6199e-04 - auc: 0.8436 - false_positives: 2037.0000 - false_negatives: 314.0000 - precision: 0.3365 - recall: 0.7669 - val_loss: 27.7048 - val_auc: 0.4960 - val_false_positives: 14.0000 - val_false_negatives: 347.0000 - val_precision: 0.0000e+00 - val_recall: 0.0000e+00\n",
      "Epoch 4/5\n",
      "155/155 [==============================] - 90s 581ms/step - loss: 1.1972e-04 - auc: 0.8799 - false_positives: 1700.0000 - false_negatives: 271.0000 - precision: 0.3876 - recall: 0.7988 - val_loss: 19.5543 - val_auc: 0.4951 - val_false_positives: 14.0000 - val_false_negatives: 346.0000 - val_precision: 0.0667 - val_recall: 0.0029\n",
      "Epoch 5/5\n",
      "155/155 [==============================] - 86s 557ms/step - loss: 1.4560e-04 - auc: 0.8664 - false_positives: 1801.0000 - false_negatives: 277.0000 - precision: 0.3727 - recall: 0.7944 - val_loss: 36.3367 - val_auc: 0.4955 - val_false_positives: 16.0000 - val_false_negatives: 347.0000 - val_precision: 0.0000e+00 - val_recall: 0.0000e+00\n"
     ]
    }
   ],
   "source": [
    "optimizer = tf.keras.optimizers.Adam(learning_rate=0.1)\n",
    "model.compile(loss=\"binary_crossentropy\", optimizer=optimizer, metrics=[tf.keras.metrics.AUC(),\n",
    "                                                                        tf.keras.metrics.FalsePositives(),\n",
    "                                                                        tf.keras.metrics.FalseNegatives(),\n",
    "                                                                        tf.keras.metrics.Precision(),\n",
    "                                                                        tf.keras.metrics.Recall()])\n",
    "history = model.fit(training_dataset, epochs=5, validation_data=validation_dataset, class_weight=class_weight)"
   ]
  },
  {
   "cell_type": "code",
   "execution_count": 13,
   "metadata": {},
   "outputs": [
    {
     "data": {
      "image/png": "[encoded data removed]",
      "text/plain": [
       "<Figure size 720x576 with 1 Axes>"
      ]
     },
     "metadata": {
      "needs_background": "light"
     },
     "output_type": "display_data"
    }
   ],
   "source": [
    "plt.figure(figsize=(10, 8))\n",
    "plt.plot(history.history['val_false_positives'])\n",
    "plt.plot(history.history['val_false_negatives'])\n",
    "plt.show()"
   ]
  },
  {
   "cell_type": "code",
   "execution_count": null,
   "metadata": {},
   "outputs": [],
   "source": []
  }
 ],
 "metadata": {
  "kernelspec": {
   "display_name": "Python 3 (ipykernel)",
   "language": "python",
   "name": "python3"
  },
  "language_info": {
   "codemirror_mode": {
    "name": "ipython",
    "version": 3
   },
   "file_extension": ".py",
   "mimetype": "text/x-python",
   "name": "python",
   "nbconvert_exporter": "python",
   "pygments_lexer": "ipython3",
   "version": "3.9.10"
  }
 },
 "nbformat": 4,
 "nbformat_minor": 2
}
