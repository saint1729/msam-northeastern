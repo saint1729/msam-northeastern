{
 "cells": [
  {
   "cell_type": "code",
   "execution_count": 1,
   "id": "70a24eec",
   "metadata": {},
   "outputs": [],
   "source": [
    "import numpy as np\n",
    "import pandas as pd\n",
    "import matplotlib.pyplot as plt\n",
    "from sklearn.model_selection import train_test_split\n",
    "from math import exp\n",
    "plt.rcParams[\"figure.figsize\"] = (10, 6)\n",
    "\n",
    "# To plot pretty figures\n",
    "%matplotlib inline\n",
    "import matplotlib as mpl\n",
    "import matplotlib.pyplot as plt\n",
    "mpl.rc('axes', labelsize=12)\n",
    "mpl.rc('xtick', labelsize=10)\n",
    "mpl.rc('ytick', labelsize=10)\n",
    "\n",
    "import seaborn as sns #sets up styles and gives us more plotting optionsimport numpy as np"
   ]
  },
  {
   "cell_type": "code",
   "execution_count": 2,
   "id": "390cedb4",
   "metadata": {},
   "outputs": [],
   "source": [
    "data=pd.read_csv(\"logistic_hw.csv\", error_bad_lines=False) "
   ]
  },
  {
   "cell_type": "code",
   "execution_count": 3,
   "id": "3860f6d1",
   "metadata": {},
   "outputs": [
    {
     "data": {
      "text/html": [
       "<div>\n",
       "<style scoped>\n",
       "    .dataframe tbody tr th:only-of-type {\n",
       "        vertical-align: middle;\n",
       "    }\n",
       "\n",
       "    .dataframe tbody tr th {\n",
       "        vertical-align: top;\n",
       "    }\n",
       "\n",
       "    .dataframe thead th {\n",
       "        text-align: right;\n",
       "    }\n",
       "</style>\n",
       "<table border=\"1\" class=\"dataframe\">\n",
       "  <thead>\n",
       "    <tr style=\"text-align: right;\">\n",
       "      <th></th>\n",
       "      <th>X1</th>\n",
       "      <th>X2</th>\n",
       "      <th>Y</th>\n",
       "    </tr>\n",
       "  </thead>\n",
       "  <tbody>\n",
       "    <tr>\n",
       "      <th>0</th>\n",
       "      <td>3.81</td>\n",
       "      <td>-0.55</td>\n",
       "      <td>1</td>\n",
       "    </tr>\n",
       "    <tr>\n",
       "      <th>1</th>\n",
       "      <td>0.23</td>\n",
       "      <td>3.37</td>\n",
       "      <td>1</td>\n",
       "    </tr>\n",
       "    <tr>\n",
       "      <th>2</th>\n",
       "      <td>3.05</td>\n",
       "      <td>3.53</td>\n",
       "      <td>1</td>\n",
       "    </tr>\n",
       "    <tr>\n",
       "      <th>3</th>\n",
       "      <td>0.68</td>\n",
       "      <td>1.84</td>\n",
       "      <td>1</td>\n",
       "    </tr>\n",
       "    <tr>\n",
       "      <th>4</th>\n",
       "      <td>2.67</td>\n",
       "      <td>2.74</td>\n",
       "      <td>1</td>\n",
       "    </tr>\n",
       "    <tr>\n",
       "      <th>5</th>\n",
       "      <td>-2.04</td>\n",
       "      <td>-1.25</td>\n",
       "      <td>0</td>\n",
       "    </tr>\n",
       "    <tr>\n",
       "      <th>6</th>\n",
       "      <td>-0.72</td>\n",
       "      <td>-3.35</td>\n",
       "      <td>0</td>\n",
       "    </tr>\n",
       "    <tr>\n",
       "      <th>7</th>\n",
       "      <td>-2.46</td>\n",
       "      <td>-1.31</td>\n",
       "      <td>0</td>\n",
       "    </tr>\n",
       "    <tr>\n",
       "      <th>8</th>\n",
       "      <td>-3.51</td>\n",
       "      <td>0.13</td>\n",
       "      <td>0</td>\n",
       "    </tr>\n",
       "    <tr>\n",
       "      <th>9</th>\n",
       "      <td>-2.05</td>\n",
       "      <td>-2.82</td>\n",
       "      <td>0</td>\n",
       "    </tr>\n",
       "  </tbody>\n",
       "</table>\n",
       "</div>"
      ],
      "text/plain": [
       "     X1    X2  Y\n",
       "0  3.81 -0.55  1\n",
       "1  0.23  3.37  1\n",
       "2  3.05  3.53  1\n",
       "3  0.68  1.84  1\n",
       "4  2.67  2.74  1\n",
       "5 -2.04 -1.25  0\n",
       "6 -0.72 -3.35  0\n",
       "7 -2.46 -1.31  0\n",
       "8 -3.51  0.13  0\n",
       "9 -2.05 -2.82  0"
      ]
     },
     "execution_count": 3,
     "metadata": {},
     "output_type": "execute_result"
    }
   ],
   "source": [
    "data.head(10)"
   ]
  },
  {
   "cell_type": "code",
   "execution_count": 5,
   "id": "dd0e841a",
   "metadata": {},
   "outputs": [
    {
     "data": {
      "image/png": "[encoded data removed]",
      "text/plain": [
       "<Figure size 720x504 with 1 Axes>"
      ]
     },
     "metadata": {
      "needs_background": "light"
     },
     "output_type": "display_data"
    }
   ],
   "source": [
    "#Extract Trues/Falses (1s and 0s)\n",
    "trues = data[data.Y.values == 1]\n",
    "falses = data[data.Y.values == 0]\n",
    "fig = plt.figure()\n",
    "ax1 = fig.add_subplot(111)\n",
    "ax1.scatter(trues['X1'],trues['X2'], s=25, c='g', marker=\"o\", label='1')\n",
    "ax1.scatter(falses['X1'],falses['X2'], s=25, c='r', marker=\"x\", label='0')\n",
    "plt.legend(loc='upper right');\n",
    "ax1.set_xlabel('X1')\n",
    "ax1.set_ylabel('X2')\n",
    "fig.set_size_inches(10, 7) \n",
    "plt.show()"
   ]
  },
  {
   "cell_type": "code",
   "execution_count": 38,
   "id": "44150cc5",
   "metadata": {},
   "outputs": [],
   "source": [
    "x1 = data.X1.values\n",
    "x2 = data.X2.values\n",
    "Y = data.Y.values\n",
    "X12 = data[['X1','X2']]\n",
    "x12 = X12.to_numpy()  # the same as  X12.values\n",
    "X = np.hstack([np.ones((X12.shape[0], 1)), X12.values])"
   ]
  },
  {
   "cell_type": "code",
   "execution_count": 65,
   "id": "2ac9a475",
   "metadata": {},
   "outputs": [],
   "source": [
    "X = data.values[:, :-1]"
   ]
  },
  {
   "cell_type": "code",
   "execution_count": 24,
   "id": "ef416c32",
   "metadata": {},
   "outputs": [
    {
     "data": {
      "text/plain": [
       "(10, 3)"
      ]
     },
     "execution_count": 24,
     "metadata": {},
     "output_type": "execute_result"
    }
   ],
   "source": [
    "X.shape"
   ]
  },
  {
   "cell_type": "code",
   "execution_count": 67,
   "id": "111dc823",
   "metadata": {},
   "outputs": [
    {
     "data": {
      "text/plain": [
       "array([ 3.81,  0.23,  3.05,  0.68,  2.67, -2.04, -0.72, -2.46, -3.51,\n",
       "       -2.05])"
      ]
     },
     "execution_count": 67,
     "metadata": {},
     "output_type": "execute_result"
    }
   ],
   "source": [
    "X[:,0]"
   ]
  },
  {
   "cell_type": "code",
   "execution_count": 17,
   "id": "2917f3d8",
   "metadata": {},
   "outputs": [],
   "source": [
    "# Initializing variables\n",
    "b0 = 0\n",
    "b1 = 0\n",
    "b2 = 0\n",
    "L = 0.001\n",
    "epochs = 300\n",
    "\n",
    "# Method for predictions\n",
    "def sigmoid(X, b0, b1, b2):\n",
    "    return np.array([1 / (1 + exp(-1*b0 + -1*b1*x[0] + -1*b2*x[1] )) for x in X])"
   ]
  },
  {
   "cell_type": "code",
   "execution_count": 28,
   "id": "95dd5832",
   "metadata": {},
   "outputs": [],
   "source": [
    "for epoch in range(epochs):\n",
    "    y_pred = sigmoid(X, b0, b1, b2)\n",
    "    D_b0 = -2 * sum((Y - y_pred) * y_pred * (1 - y_pred))  # Derivative of loss wrt b0\n",
    "    D_b1 = -2 * sum(X[:,1] * (Y - y_pred) * y_pred * (1 - y_pred))  # Derivative of loss wrt b1\n",
    "    D_b2 = -2 * sum(X[:,2] * (Y - y_pred) * y_pred * (1 - y_pred)) # Derivative of loss wrt b2\n",
    "    # Update b0, b1 and b2\n",
    "    b0 = b0 - L * D_b0\n",
    "    b1 = b1 - L * D_b1\n",
    "    b2 = b2 - L * D_b2"
   ]
  },
  {
   "cell_type": "code",
   "execution_count": 29,
   "id": "68cd239e",
   "metadata": {},
   "outputs": [
    {
     "name": "stdout",
     "output_type": "stream",
     "text": [
      "-0.08729310125993082 0.6283062544824546 0.8591163816862106\n"
     ]
    }
   ],
   "source": [
    "print(b0,b1,b2)"
   ]
  },
  {
   "cell_type": "code",
   "execution_count": 53,
   "id": "702561d9",
   "metadata": {},
   "outputs": [
    {
     "data": {
      "image/png": "[encoded data removed]",
      "text/plain": [
       "<Figure size 720x504 with 1 Axes>"
      ]
     },
     "metadata": {
      "needs_background": "light"
     },
     "output_type": "display_data"
    }
   ],
   "source": [
    "import matplotlib.pyplot as plt\n",
    "\n",
    "A = [X[:,1], X[:,2]]\n",
    "colors = [\"green\", \"blue\"] # colours for Scatter Plot\n",
    "# getting the x co-ordinates of the decision boundary\n",
    "plot_x = np.array([min(X[:,1]) - 2, max(X[:,2]) + 2])\n",
    "# getting corresponding y co-ordinates of the decision boundary\n",
    "plot_y = (-1/b2) * (b1 * plot_x + b0)\n",
    "# Plotting the Single Line Decision Boundary\n",
    "fig = plt.figure()\n",
    "ax1 = fig.add_subplot(111)\n",
    "ax1.scatter(trues['X1'],trues['X2'], s=25, c='g', marker=\"o\", label='1')\n",
    "ax1.scatter(falses['X1'],falses['X2'], s=25, c='r', marker=\"x\", label='0')\n",
    "plt.legend(loc='upper right');\n",
    "plt.plot(plot_x, plot_y, label = \"Decision_Boundary\")\n",
    "ax1.set_xlabel('X1')\n",
    "ax1.set_ylabel('X2')\n",
    "fig.set_size_inches(10, 7) \n",
    "plt.show()"
   ]
  },
  {
   "cell_type": "code",
   "execution_count": 54,
   "id": "57de117e",
   "metadata": {},
   "outputs": [],
   "source": [
    "data['X1sq'] = data['X1'].pow(2)\n",
    "data['X2sq'] = data['X2'].pow(2)\n",
    "data['X1X2'] = data['X1']*data['X2']"
   ]
  },
  {
   "cell_type": "code",
   "execution_count": 56,
   "id": "8710801a",
   "metadata": {},
   "outputs": [],
   "source": [
    "Xcols = data[['X1','X2','X1sq','X2sq','X1X2']]\n",
    "#x12 = X12.to_numpy()  # the same as  X12.values\n",
    "X = np.hstack([np.ones((X12.shape[0], 1)), Xcols.values])"
   ]
  },
  {
   "cell_type": "code",
   "execution_count": 68,
   "id": "6b9d9ba8",
   "metadata": {},
   "outputs": [],
   "source": [
    "X = data[['X1','X2','X1sq','X2sq','X1X2']].to_numpy()"
   ]
  },
  {
   "cell_type": "code",
   "execution_count": 70,
   "id": "b4e9a82a",
   "metadata": {},
   "outputs": [],
   "source": [
    "# Initializing variables\n",
    "b0 = 0\n",
    "b1 = 0\n",
    "b2 = 0\n",
    "b3 = 0\n",
    "b4 = 0\n",
    "b5 = 0\n",
    "L = 0.001\n",
    "epochs = 300\n",
    "\n",
    "# Method for predictions\n",
    "def sigmoid(X, b0, b1, b2, b3, b4, b5):\n",
    "    return np.array([1 / (1 + exp(-1*b0 + -1*b1*x[0] + -1*b2*x[1] + -1*b2*x[2] + -1*b2*x[3] + -1*b2*x[4])) for x in X])"
   ]
  },
  {
   "cell_type": "code",
   "execution_count": 63,
   "id": "d203821a",
   "metadata": {},
   "outputs": [
    {
     "data": {
      "text/plain": [
       "array([[ 3.81  , -0.55  , 14.5161,  0.3025, -2.0955],\n",
       "       [ 0.23  ,  3.37  ,  0.0529, 11.3569,  0.7751],\n",
       "       [ 3.05  ,  3.53  ,  9.3025, 12.4609, 10.7665],\n",
       "       [ 0.68  ,  1.84  ,  0.4624,  3.3856,  1.2512],\n",
       "       [ 2.67  ,  2.74  ,  7.1289,  7.5076,  7.3158],\n",
       "       [-2.04  , -1.25  ,  4.1616,  1.5625,  2.55  ],\n",
       "       [-0.72  , -3.35  ,  0.5184, 11.2225,  2.412 ],\n",
       "       [-2.46  , -1.31  ,  6.0516,  1.7161,  3.2226],\n",
       "       [-3.51  ,  0.13  , 12.3201,  0.0169, -0.4563],\n",
       "       [-2.05  , -2.82  ,  4.2025,  7.9524,  5.781 ]])"
      ]
     },
     "execution_count": 63,
     "metadata": {},
     "output_type": "execute_result"
    }
   ],
   "source": [
    "X"
   ]
  },
  {
   "cell_type": "code",
   "execution_count": 71,
   "id": "750b7074",
   "metadata": {},
   "outputs": [],
   "source": [
    "for epoch in range(epochs):\n",
    "    y_pred = sigmoid(X, b0, b1, b2, b3, b4, b5)\n",
    "    D_b0 = -2 * sum((Y - y_pred) * y_pred * (1 - y_pred))  # Derivative of loss wrt b0\n",
    "    D_b1 = -2 * sum(X[:,0] * (Y - y_pred) * y_pred * (1 - y_pred))  # Derivative of loss wrt b1\n",
    "    D_b2 = -2 * sum(X[:,1] * (Y - y_pred) * y_pred * (1 - y_pred)) # Derivative of loss wrt b2\n",
    "    D_b3 = -2 * sum(X[:,2] * (Y - y_pred) * y_pred * (1 - y_pred))\n",
    "    D_b4 = -2 * sum(X[:,3] * (Y - y_pred) * y_pred * (1 - y_pred))\n",
    "    D_b5 = -2 * sum(X[:,4] * (Y - y_pred) * y_pred * (1 - y_pred))\n",
    "    # Update b0, b1 and b2\n",
    "    b0 = b0 - L * D_b0\n",
    "    b1 = b1 - L * D_b1\n",
    "    b2 = b2 - L * D_b2\n",
    "    b3 = b3 - L * D_b3\n",
    "    b4 = b4 - L * D_b4\n",
    "    b5 = b5 - L * D_b5"
   ]
  },
  {
   "cell_type": "code",
   "execution_count": 72,
   "id": "9aa0bbe5",
   "metadata": {},
   "outputs": [
    {
     "name": "stdout",
     "output_type": "stream",
     "text": [
      "-0.2419783995682602 0.6435114150137241 0.43122919917024943 -1.4586257311779816 -0.7457030639503046 -0.5920297246775824\n"
     ]
    }
   ],
   "source": [
    "print(b0,b1,b2,b3,b4,b5)"
   ]
  },
  {
   "cell_type": "code",
   "execution_count": 14,
   "id": "c25528a0",
   "metadata": {},
   "outputs": [],
   "source": [
    "#LDA\n",
    "label1 = data[data.Y.values == 1]\n",
    "label2 = data[data.Y.values == 0]\n",
    "#X12 = data[['X1','X2']]\n",
    "#x12 = X12.to_numpy()  #\n",
    "#A = [X[:,1], X[:,2]]"
   ]
  },
  {
   "cell_type": "code",
   "execution_count": 9,
   "id": "a0dd6bb4",
   "metadata": {},
   "outputs": [],
   "source": [
    "label1 = label1[['X1','X2']]"
   ]
  },
  {
   "cell_type": "code",
   "execution_count": 5,
   "id": "fa5a2cd4",
   "metadata": {},
   "outputs": [],
   "source": [
    "rectangles = np.array([[1,1.5,1.7,1.45,1.1,1.6,1.8],[1.8,1.55,1.45,1.6,1.65,1.7,1.75]])"
   ]
  },
  {
   "cell_type": "code",
   "execution_count": 6,
   "id": "1390bfee",
   "metadata": {},
   "outputs": [
    {
     "data": {
      "text/plain": [
       "array([[1.  , 1.5 , 1.7 , 1.45, 1.1 , 1.6 , 1.8 ],\n",
       "       [1.8 , 1.55, 1.45, 1.6 , 1.65, 1.7 , 1.75]])"
      ]
     },
     "execution_count": 6,
     "metadata": {},
     "output_type": "execute_result"
    }
   ],
   "source": [
    "rectangles"
   ]
  },
  {
   "cell_type": "code",
   "execution_count": 8,
   "id": "4207ee71",
   "metadata": {},
   "outputs": [
    {
     "data": {
      "text/plain": [
       "(2, 7)"
      ]
     },
     "execution_count": 8,
     "metadata": {},
     "output_type": "execute_result"
    }
   ],
   "source": [
    "rectangles.shape"
   ]
  },
  {
   "cell_type": "code",
   "execution_count": 10,
   "id": "c461b155",
   "metadata": {},
   "outputs": [],
   "source": [
    "label1 = label1.to_numpy()"
   ]
  },
  {
   "cell_type": "code",
   "execution_count": 13,
   "id": "0c84e8c6",
   "metadata": {},
   "outputs": [
    {
     "data": {
      "text/plain": [
       "array([[ 3.81, -0.55,  0.23,  3.37,  3.05],\n",
       "       [ 3.53,  0.68,  1.84,  2.67,  2.74]])"
      ]
     },
     "execution_count": 13,
     "metadata": {},
     "output_type": "execute_result"
    }
   ],
   "source": [
    "label1.reshape(2,5)"
   ]
  },
  {
   "cell_type": "code",
   "execution_count": 16,
   "id": "dc9d63d0",
   "metadata": {},
   "outputs": [],
   "source": [
    "label1 = np.array([[3.81, 0.23, 3.05, 0.68, 2.67],[-0.55, 3.37, 3.53, 1.84, 2.74]])\n",
    "label2 = np.array([[-2.04, -0.72, -2.46, -3.51, -2.05],[-1.25, -3.35, -1.31, 0.13, -2.82]])"
   ]
  },
  {
   "cell_type": "code",
   "execution_count": 17,
   "id": "8d9a6627",
   "metadata": {},
   "outputs": [
    {
     "data": {
      "text/plain": [
       "<matplotlib.collections.PathCollection at 0x19f2a2b5670>"
      ]
     },
     "execution_count": 17,
     "metadata": {},
     "output_type": "execute_result"
    },
    {
     "data": {
      "image/png": "[encoded data removed]",
      "text/plain": [
       "<Figure size 720x720 with 1 Axes>"
      ]
     },
     "metadata": {
      "needs_background": "light"
     },
     "output_type": "display_data"
    }
   ],
   "source": [
    "#Plot the data\n",
    "fig = plt.figure(figsize=(10,10))\n",
    "ax0 = fig.add_subplot(111)\n",
    "\n",
    "ax0.scatter(label1[0],label1[1],marker='s',c='grey',edgecolor='black')\n",
    "ax0.scatter(label2[0],label2[1],marker='o',c='yellow',edgecolor='black')"
   ]
  },
  {
   "cell_type": "code",
   "execution_count": null,
   "id": "af2fd28d",
   "metadata": {},
   "outputs": [],
   "source": [
    "# Calculate the mean vectors per class\n",
    "mean_label1 = np.mean(label1,axis=1).reshape(2,1) # Creates a 2x1 vector consisting of the means of the dimensions \n",
    "mean_label2 = np.mean(label2,axis=1).reshape(2,1)\n",
    "\n",
    "\n",
    "# Calculate the scatter matrices for the SW (Scatter within) and sum the elements up\n",
    "\n",
    "scatter_label1 = np.dot((label1-mean_label1),(label1-mean_label1).T)\n",
    "scatter_label2 = np.dot((label2-mean_label2),(label2-mean_label2).T)\n",
    "\n",
    "\n",
    "# Calculate the SW by adding the scatters within classes \n",
    "SW = scatter_label1+scatter_label2\n",
    "print(SW)\n",
    "\n",
    "\n",
    "plt.show()"
   ]
  },
  {
   "cell_type": "code",
   "execution_count": null,
   "id": "800c682d",
   "metadata": {},
   "outputs": [],
   "source": []
  }
 ],
 "metadata": {
  "kernelspec": {
   "display_name": "Python 3 (ipykernel)",
   "language": "python",
   "name": "python3"
  },
  "language_info": {
   "codemirror_mode": {
    "name": "ipython",
    "version": 3
   },
   "file_extension": ".py",
   "mimetype": "text/x-python",
   "name": "python",
   "nbconvert_exporter": "python",
   "pygments_lexer": "ipython3",
   "version": "3.9.7"
  }
 },
 "nbformat": 4,
 "nbformat_minor": 5
}
