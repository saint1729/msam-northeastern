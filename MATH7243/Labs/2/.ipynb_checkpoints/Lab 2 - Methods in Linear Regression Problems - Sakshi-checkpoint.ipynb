{
 "cells": [
  {
   "cell_type": "markdown",
   "metadata": {},
   "source": [
    "# Lab 2: Methods in Linear Regression\n",
    "\n",
    "## Problems:\n",
    "\n",
    "### Problem 1: Bootstrapping a Confidence Interval\n",
    "\n",
    "If we don't have a formula for the confidence interval of a statistic, we can often estimate it by sampling from out data set many times, computing the statistic of interest, and then plotting the distribution. This is known as __bootstrapping__ the confidence interval, since you're using the data to make estimates about your fits, effectively pulling yourself up by your bootstraps. In this problem, we will see how to boot strap the confidence interval for the $\\beta$ parameters in the linear fit. \n",
    "\n",
    "__Continue with the Lab2 Master file.__ Lets return to the one variable examples of fitting the sales price to the first floor square footage __1stFlrSF__. Using a for loop, compute $\\beta_0$ and $\\beta_1$ 1000 times for samples of size $N = 1436$ __with replacement__ and store their results in vectors, as in the code below. \n"
   ]
  },
  {
   "cell_type": "code",
   "execution_count": 1,
   "metadata": {},
   "outputs": [],
   "source": [
    "import pandas as pd\n",
    "import numpy as np\n",
    "from matplotlib import pyplot as plt\n",
    "import seaborn as sns\n",
    "import sklearn as sk\n",
    "\n",
    "import io\n",
    "import requests\n",
    "\n",
    "url = \"https://raw.githubusercontent.com/tipthederiver/Math-7243-2020/master/Datasets/Ames/train.csv\"\n",
    "s = requests.get(url).content\n",
    "ames = pd.read_csv(io.StringIO(s.decode('utf-8')))"
   ]
  },
  {
   "cell_type": "code",
   "execution_count": 2,
   "metadata": {},
   "outputs": [
    {
     "name": "stdout",
     "output_type": "stream",
     "text": [
      "Number of records removed: 24\n"
     ]
    }
   ],
   "source": [
    "z = ames['GrLivArea'] + ames['BsmtUnfSF']<4000\n",
    "print(\"Number of records removed:\", len(ames) - sum(z))\n",
    "data = ames[z]"
   ]
  },
  {
   "cell_type": "code",
   "execution_count": 3,
   "metadata": {},
   "outputs": [
    {
     "data": {
      "text/plain": [
       "1436"
      ]
     },
     "execution_count": 3,
     "metadata": {},
     "output_type": "execute_result"
    }
   ],
   "source": [
    "sum(z)"
   ]
  },
  {
   "cell_type": "code",
   "execution_count": 4,
   "metadata": {},
   "outputs": [
    {
     "name": "stdout",
     "output_type": "stream",
     "text": [
      "<class 'pandas.core.frame.DataFrame'>\n",
      "Int64Index: 1436 entries, 0 to 1459\n",
      "Data columns (total 81 columns):\n",
      " #   Column         Non-Null Count  Dtype  \n",
      "---  ------         --------------  -----  \n",
      " 0   Id             1436 non-null   int64  \n",
      " 1   MSSubClass     1436 non-null   int64  \n",
      " 2   MSZoning       1436 non-null   object \n",
      " 3   LotFrontage    1178 non-null   float64\n",
      " 4   LotArea        1436 non-null   int64  \n",
      " 5   Street         1436 non-null   object \n",
      " 6   Alley          90 non-null     object \n",
      " 7   LotShape       1436 non-null   object \n",
      " 8   LandContour    1436 non-null   object \n",
      " 9   Utilities      1436 non-null   object \n",
      " 10  LotConfig      1436 non-null   object \n",
      " 11  LandSlope      1436 non-null   object \n",
      " 12  Neighborhood   1436 non-null   object \n",
      " 13  Condition1     1436 non-null   object \n",
      " 14  Condition2     1436 non-null   object \n",
      " 15  BldgType       1436 non-null   object \n",
      " 16  HouseStyle     1436 non-null   object \n",
      " 17  OverallQual    1436 non-null   int64  \n",
      " 18  OverallCond    1436 non-null   int64  \n",
      " 19  YearBuilt      1436 non-null   int64  \n",
      " 20  YearRemodAdd   1436 non-null   int64  \n",
      " 21  RoofStyle      1436 non-null   object \n",
      " 22  RoofMatl       1436 non-null   object \n",
      " 23  Exterior1st    1436 non-null   object \n",
      " 24  Exterior2nd    1436 non-null   object \n",
      " 25  MasVnrType     1428 non-null   object \n",
      " 26  MasVnrArea     1428 non-null   float64\n",
      " 27  ExterQual      1436 non-null   object \n",
      " 28  ExterCond      1436 non-null   object \n",
      " 29  Foundation     1436 non-null   object \n",
      " 30  BsmtQual       1399 non-null   object \n",
      " 31  BsmtCond       1399 non-null   object \n",
      " 32  BsmtExposure   1398 non-null   object \n",
      " 33  BsmtFinType1   1399 non-null   object \n",
      " 34  BsmtFinSF1     1436 non-null   int64  \n",
      " 35  BsmtFinType2   1398 non-null   object \n",
      " 36  BsmtFinSF2     1436 non-null   int64  \n",
      " 37  BsmtUnfSF      1436 non-null   int64  \n",
      " 38  TotalBsmtSF    1436 non-null   int64  \n",
      " 39  Heating        1436 non-null   object \n",
      " 40  HeatingQC      1436 non-null   object \n",
      " 41  CentralAir     1436 non-null   object \n",
      " 42  Electrical     1435 non-null   object \n",
      " 43  1stFlrSF       1436 non-null   int64  \n",
      " 44  2ndFlrSF       1436 non-null   int64  \n",
      " 45  LowQualFinSF   1436 non-null   int64  \n",
      " 46  GrLivArea      1436 non-null   int64  \n",
      " 47  BsmtFullBath   1436 non-null   int64  \n",
      " 48  BsmtHalfBath   1436 non-null   int64  \n",
      " 49  FullBath       1436 non-null   int64  \n",
      " 50  HalfBath       1436 non-null   int64  \n",
      " 51  BedroomAbvGr   1436 non-null   int64  \n",
      " 52  KitchenAbvGr   1436 non-null   int64  \n",
      " 53  KitchenQual    1436 non-null   object \n",
      " 54  TotRmsAbvGrd   1436 non-null   int64  \n",
      " 55  Functional     1436 non-null   object \n",
      " 56  Fireplaces     1436 non-null   int64  \n",
      " 57  FireplaceQu    747 non-null    object \n",
      " 58  GarageType     1357 non-null   object \n",
      " 59  GarageYrBlt    1357 non-null   float64\n",
      " 60  GarageFinish   1357 non-null   object \n",
      " 61  GarageCars     1436 non-null   int64  \n",
      " 62  GarageArea     1436 non-null   int64  \n",
      " 63  GarageQual     1357 non-null   object \n",
      " 64  GarageCond     1357 non-null   object \n",
      " 65  PavedDrive     1436 non-null   object \n",
      " 66  WoodDeckSF     1436 non-null   int64  \n",
      " 67  OpenPorchSF    1436 non-null   int64  \n",
      " 68  EnclosedPorch  1436 non-null   int64  \n",
      " 69  3SsnPorch      1436 non-null   int64  \n",
      " 70  ScreenPorch    1436 non-null   int64  \n",
      " 71  PoolArea       1436 non-null   int64  \n",
      " 72  PoolQC         5 non-null      object \n",
      " 73  Fence          278 non-null    object \n",
      " 74  MiscFeature    54 non-null     object \n",
      " 75  MiscVal        1436 non-null   int64  \n",
      " 76  MoSold         1436 non-null   int64  \n",
      " 77  YrSold         1436 non-null   int64  \n",
      " 78  SaleType       1436 non-null   object \n",
      " 79  SaleCondition  1436 non-null   object \n",
      " 80  SalePrice      1436 non-null   int64  \n",
      "dtypes: float64(3), int64(35), object(43)\n",
      "memory usage: 919.9+ KB\n"
     ]
    }
   ],
   "source": [
    "data = ames[z]\n",
    "data.info()"
   ]
  },
  {
   "cell_type": "code",
   "execution_count": 5,
   "metadata": {},
   "outputs": [],
   "source": [
    "N = 1000\n",
    "\n",
    "beta0 = []\n",
    "beta1 = []\n",
    "\n",
    "for i in range(N):\n",
    "    train = data.sample(n=1436, replace=True)\n",
    "    X_train = train.drop(columns=['SalePrice', 'Id'])\n",
    "    Y_train = train['SalePrice']\n",
    "    X = np.matrix(X_train['1stFlrSF'])\n",
    "    Y = np.matrix(Y_train)\n",
    "    X = X.reshape((-1, 1))\n",
    "    Y = Y.reshape((-1, 1))\n",
    "    X = np.append(np.ones(X.shape), X, 1)\n",
    "\n",
    "    betas = ((X.T * X).I * X.T * Y)\n",
    "    betas = np.squeeze(np.asarray(betas))\n",
    "    ## Compute beta0 and beta1, using linear algebra, sklearn, or scipy\n",
    "    beta0.append(betas[0])\n",
    "    beta1.append(betas[1])\n",
    "\n",
    "beta0 = np.array(beta0)\n",
    "beta1 = np.array(beta1)"
   ]
  },
  {
   "cell_type": "code",
   "execution_count": 6,
   "metadata": {},
   "outputs": [
    {
     "data": {
      "text/plain": [
       "(1000,)"
      ]
     },
     "execution_count": 6,
     "metadata": {},
     "output_type": "execute_result"
    }
   ],
   "source": [
    "beta0.shape"
   ]
  },
  {
   "cell_type": "code",
   "execution_count": 7,
   "metadata": {},
   "outputs": [
    {
     "data": {
      "text/plain": [
       "(1000,)"
      ]
     },
     "execution_count": 7,
     "metadata": {},
     "output_type": "execute_result"
    }
   ],
   "source": [
    "beta1.shape"
   ]
  },
  {
   "cell_type": "markdown",
   "metadata": {},
   "source": [
    "__Turn in__\n",
    "\n",
    "1. Plot a histogram of $\\beta_0$ and $\\beta_1$. \n",
    "2. Using `beta0.sort()`, sort the values and find the interval containing the middle 950 values. This is the bootstrap 95% confidence interval. \n",
    "3. Using the formulas from (Section 4.Statistics for ML. Sec4StatisticsML.pdf page 17.), compute the confidence interval. Remember that here you use all of the training data. Compare your results. \n"
   ]
  },
  {
   "cell_type": "code",
   "execution_count": 8,
   "metadata": {},
   "outputs": [
    {
     "data": {
      "image/png": "[encoded data removed]",
      "text/plain": [
       "<Figure size 432x288 with 1 Axes>"
      ]
     },
     "metadata": {
      "needs_background": "light"
     },
     "output_type": "display_data"
    }
   ],
   "source": [
    "import matplotlib.pyplot as plt\n",
    "_ = plt.hist(beta0, bins=100)\n",
    "plt.title(\"Histogram with 'auto' bins\")\n",
    "plt.show()"
   ]
  },
  {
   "cell_type": "code",
   "execution_count": 9,
   "metadata": {},
   "outputs": [
    {
     "data": {
      "image/png": "[encoded data removed]",
      "text/plain": [
       "<Figure size 432x288 with 1 Axes>"
      ]
     },
     "metadata": {
      "needs_background": "light"
     },
     "output_type": "display_data"
    }
   ],
   "source": [
    "import matplotlib.pyplot as plt\n",
    "_ = plt.hist(beta1, bins=100)\n",
    "plt.title(\"Histogram with 'auto' bins\")\n",
    "plt.show()"
   ]
  },
  {
   "cell_type": "code",
   "execution_count": 10,
   "metadata": {},
   "outputs": [],
   "source": [
    "beta0.sort()\n",
    "beta1.sort()"
   ]
  },
  {
   "cell_type": "code",
   "execution_count": 11,
   "metadata": {},
   "outputs": [
    {
     "name": "stdout",
     "output_type": "stream",
     "text": [
      "Confidence Interval of beta0 from sampling is (24801.726054759485, 48925.08748767334)\n"
     ]
    }
   ],
   "source": [
    "print(f\"Confidence Interval of beta0 from sampling is ({beta0[24]}, {beta0[974]})\")"
   ]
  },
  {
   "cell_type": "code",
   "execution_count": 12,
   "metadata": {},
   "outputs": [
    {
     "name": "stdout",
     "output_type": "stream",
     "text": [
      "Confidence Interval of beta1 from sampling is (110.86180704656837, 133.18660144765556)\n"
     ]
    }
   ],
   "source": [
    "print(f\"Confidence Interval of beta1 from sampling is ({beta1[24]}, {beta1[974]})\")"
   ]
  },
  {
   "cell_type": "code",
   "execution_count": 13,
   "metadata": {},
   "outputs": [],
   "source": [
    "X = np.array(data['1stFlrSF'])\n",
    "Y = np.array(data['SalePrice'])"
   ]
  },
  {
   "cell_type": "code",
   "execution_count": 14,
   "metadata": {},
   "outputs": [],
   "source": [
    "X = X.reshape((-1, 1))\n",
    "Y = Y.reshape((-1, 1))\n",
    "X = np.append(np.ones(X.shape), X, 1)"
   ]
  },
  {
   "cell_type": "code",
   "execution_count": 15,
   "metadata": {},
   "outputs": [],
   "source": [
    "betas = np.linalg.inv(X.T @ X) @ X.T @ Y"
   ]
  },
  {
   "cell_type": "code",
   "execution_count": 16,
   "metadata": {},
   "outputs": [],
   "source": [
    "n, d = X.shape"
   ]
  },
  {
   "cell_type": "code",
   "execution_count": 17,
   "metadata": {},
   "outputs": [],
   "source": [
    "std = (1 / (n - d)) * (Y - X @ betas).T @ (Y - X @ betas)"
   ]
  },
  {
   "cell_type": "code",
   "execution_count": 18,
   "metadata": {},
   "outputs": [
    {
     "data": {
      "text/plain": [
       "array([3.2508792e+09])"
      ]
     },
     "execution_count": 18,
     "metadata": {},
     "output_type": "execute_result"
    }
   ],
   "source": [
    "std[0]"
   ]
  },
  {
   "cell_type": "code",
   "execution_count": 19,
   "metadata": {},
   "outputs": [],
   "source": [
    "var = std[0, 0]"
   ]
  },
  {
   "cell_type": "code",
   "execution_count": 20,
   "metadata": {},
   "outputs": [],
   "source": [
    "covar = var * np.linalg.inv(X.T @ X)"
   ]
  },
  {
   "cell_type": "code",
   "execution_count": 21,
   "metadata": {},
   "outputs": [],
   "source": [
    "sd_beta0, sd_beta1 = np.sqrt(covar[0, 0]), np.sqrt(covar[1, 1])"
   ]
  },
  {
   "cell_type": "code",
   "execution_count": 22,
   "metadata": {},
   "outputs": [
    {
     "name": "stdout",
     "output_type": "stream",
     "text": [
      "95% Confidence Interval for beta0 is (27472.0543237304, 47659.45229912873)\n"
     ]
    }
   ],
   "source": [
    "print(f\"95% Confidence Interval for beta0 is \\\n",
    "({betas[0, 0] - 2 * sd_beta0}, {betas[0, 0] + 2 * sd_beta0})\")"
   ]
  },
  {
   "cell_type": "code",
   "execution_count": 23,
   "metadata": {},
   "outputs": [
    {
     "data": {
      "text/plain": [
       "121.75626859147481"
      ]
     },
     "execution_count": 23,
     "metadata": {},
     "output_type": "execute_result"
    }
   ],
   "source": [
    "betas[1, 0]"
   ]
  },
  {
   "cell_type": "code",
   "execution_count": 24,
   "metadata": {},
   "outputs": [
    {
     "name": "stdout",
     "output_type": "stream",
     "text": [
      "95% Confidence Interval for beta1 is (113.35578720752032, 130.15674997542928)\n"
     ]
    }
   ],
   "source": [
    "print(f\"95% Confidence Interval for beta1 is \\\n",
    "({betas[1, 0] - 2 * sd_beta1}, {betas[1, 0] + 2 * sd_beta1})\")"
   ]
  },
  {
   "cell_type": "markdown",
   "metadata": {},
   "source": [
    "###### Problem 2: Linear Methods on High Dimensional Data\n",
    "\n",
    "Perform ridge regression and lasso regression on the MRI Slices dataset on blackboard. You should follow the __Loading the Viewing MRI Slices__ notebook, eventually loading all slices into Python as a data matrix, with all picture dimensions flattened. The text and code for that process has been reproduced below.\n",
    "\n",
    "We want to fit the MRI Slices data to the __Normalized Whole-brain Volume (nWBV)__ in the labels data.\n",
    "\n",
    "\n",
    "__Turn in__: \n",
    "\n",
    "1. Given the train-test split with seed random_state=$255$, what is the best $\\alpha$ value for pure Ridge Regression? Justify your answer. \n",
    "2. Given the train-test split with seed random_state=$255$, what is the best $\\lambda$ value for pure Lasso Regression? Justify your answer. \n",
    "3. (Bonus) What is the best $(\\alpha,\\lambda)$ value for elastic net regression?\n",
    "\n",
    "You may set the downsample rate to higher you are unable to compute the linear model.\n",
    "\n",
    "random_state= 255 will fix the random set. See Wiki for a quick explanation.  https://en.wikipedia.org/wiki/Random_seed\n",
    "Or https://machinelearningmastery.com/train-test-split-for-evaluating-machine-learning-algorithms/ for some more details. \n",
    "\n",
    "### Load MRI All Files\n",
    "\n",
    "To load all of the files into an array we need to be able to search through the directory. Luckily, this is easy to do using the labels file, since each file name is stored there. We just need to loop through the __Filename__ column in the `labels` dataset and load them into an array one by one. There are 702 files in total. \n",
    "\n",
    "With the array there are two ways we can load them in: First, we can load them into a $609\\times 176 \\times 176$ array, which is the best option if we care about the 2D structure. However for algorithms like linear regression that can not see the 2D structure, we may want to flatten the images to a $609\\times 30976$ array (note that $30976 = 176 \\times 176$). Its easy enough two switch back and forth between the two array structures later. We will start with the flattened array. "
   ]
  },
  {
   "cell_type": "code",
   "execution_count": 25,
   "metadata": {
    "scrolled": true
   },
   "outputs": [
    {
     "name": "stdout",
     "output_type": "stream",
     "text": [
      "Requirement already satisfied: opencv-python in /Users/saint1729/opt/anaconda3/lib/python3.9/site-packages (4.5.5.62)\n",
      "Requirement already satisfied: numpy>=1.19.3 in /Users/saint1729/opt/anaconda3/lib/python3.9/site-packages (from opencv-python) (1.20.3)\n",
      "Requirement already satisfied: path in /Users/saint1729/opt/anaconda3/lib/python3.9/site-packages (16.0.0)\n"
     ]
    },
    {
     "data": {
      "text/html": [
       "<div>\n",
       "<style scoped>\n",
       "    .dataframe tbody tr th:only-of-type {\n",
       "        vertical-align: middle;\n",
       "    }\n",
       "\n",
       "    .dataframe tbody tr th {\n",
       "        vertical-align: top;\n",
       "    }\n",
       "\n",
       "    .dataframe thead th {\n",
       "        text-align: right;\n",
       "    }\n",
       "</style>\n",
       "<table border=\"1\" class=\"dataframe\">\n",
       "  <thead>\n",
       "    <tr style=\"text-align: right;\">\n",
       "      <th></th>\n",
       "      <th>Unnamed: 0</th>\n",
       "      <th>Filename</th>\n",
       "      <th>ID</th>\n",
       "      <th>M/F</th>\n",
       "      <th>Hand</th>\n",
       "      <th>Age</th>\n",
       "      <th>Educ</th>\n",
       "      <th>SES</th>\n",
       "      <th>MMSE</th>\n",
       "      <th>CDR</th>\n",
       "      <th>eTIV</th>\n",
       "      <th>nWBV</th>\n",
       "      <th>ASF</th>\n",
       "      <th>Delay</th>\n",
       "      <th>Slice</th>\n",
       "    </tr>\n",
       "  </thead>\n",
       "  <tbody>\n",
       "    <tr>\n",
       "      <th>0</th>\n",
       "      <td>0</td>\n",
       "      <td>OAS1_0001_MR1_55.png</td>\n",
       "      <td>OAS1_0001_MR1</td>\n",
       "      <td>F</td>\n",
       "      <td>R</td>\n",
       "      <td>74</td>\n",
       "      <td>2</td>\n",
       "      <td>3.0</td>\n",
       "      <td>29</td>\n",
       "      <td>0.0</td>\n",
       "      <td>1344</td>\n",
       "      <td>0.743</td>\n",
       "      <td>1.306</td>\n",
       "      <td>NaN</td>\n",
       "      <td>55</td>\n",
       "    </tr>\n",
       "    <tr>\n",
       "      <th>1</th>\n",
       "      <td>1</td>\n",
       "      <td>OAS1_0001_MR1_120.png</td>\n",
       "      <td>OAS1_0001_MR1</td>\n",
       "      <td>F</td>\n",
       "      <td>R</td>\n",
       "      <td>74</td>\n",
       "      <td>2</td>\n",
       "      <td>3.0</td>\n",
       "      <td>29</td>\n",
       "      <td>0.0</td>\n",
       "      <td>1344</td>\n",
       "      <td>0.743</td>\n",
       "      <td>1.306</td>\n",
       "      <td>NaN</td>\n",
       "      <td>120</td>\n",
       "    </tr>\n",
       "    <tr>\n",
       "      <th>2</th>\n",
       "      <td>2</td>\n",
       "      <td>OAS1_0001_MR1_180.png</td>\n",
       "      <td>OAS1_0001_MR1</td>\n",
       "      <td>F</td>\n",
       "      <td>R</td>\n",
       "      <td>74</td>\n",
       "      <td>2</td>\n",
       "      <td>3.0</td>\n",
       "      <td>29</td>\n",
       "      <td>0.0</td>\n",
       "      <td>1344</td>\n",
       "      <td>0.743</td>\n",
       "      <td>1.306</td>\n",
       "      <td>NaN</td>\n",
       "      <td>180</td>\n",
       "    </tr>\n",
       "    <tr>\n",
       "      <th>3</th>\n",
       "      <td>3</td>\n",
       "      <td>OAS1_0002_MR1_55.png</td>\n",
       "      <td>OAS1_0002_MR1</td>\n",
       "      <td>F</td>\n",
       "      <td>R</td>\n",
       "      <td>55</td>\n",
       "      <td>4</td>\n",
       "      <td>1.0</td>\n",
       "      <td>29</td>\n",
       "      <td>0.0</td>\n",
       "      <td>1147</td>\n",
       "      <td>0.810</td>\n",
       "      <td>1.531</td>\n",
       "      <td>NaN</td>\n",
       "      <td>55</td>\n",
       "    </tr>\n",
       "    <tr>\n",
       "      <th>4</th>\n",
       "      <td>4</td>\n",
       "      <td>OAS1_0002_MR1_120.png</td>\n",
       "      <td>OAS1_0002_MR1</td>\n",
       "      <td>F</td>\n",
       "      <td>R</td>\n",
       "      <td>55</td>\n",
       "      <td>4</td>\n",
       "      <td>1.0</td>\n",
       "      <td>29</td>\n",
       "      <td>0.0</td>\n",
       "      <td>1147</td>\n",
       "      <td>0.810</td>\n",
       "      <td>1.531</td>\n",
       "      <td>NaN</td>\n",
       "      <td>120</td>\n",
       "    </tr>\n",
       "    <tr>\n",
       "      <th>...</th>\n",
       "      <td>...</td>\n",
       "      <td>...</td>\n",
       "      <td>...</td>\n",
       "      <td>...</td>\n",
       "      <td>...</td>\n",
       "      <td>...</td>\n",
       "      <td>...</td>\n",
       "      <td>...</td>\n",
       "      <td>...</td>\n",
       "      <td>...</td>\n",
       "      <td>...</td>\n",
       "      <td>...</td>\n",
       "      <td>...</td>\n",
       "      <td>...</td>\n",
       "      <td>...</td>\n",
       "    </tr>\n",
       "    <tr>\n",
       "      <th>604</th>\n",
       "      <td>604</td>\n",
       "      <td>OAS1_0449_MR1_120.png</td>\n",
       "      <td>OAS1_0449_MR1</td>\n",
       "      <td>F</td>\n",
       "      <td>R</td>\n",
       "      <td>71</td>\n",
       "      <td>3</td>\n",
       "      <td>4.0</td>\n",
       "      <td>29</td>\n",
       "      <td>0.0</td>\n",
       "      <td>1264</td>\n",
       "      <td>0.818</td>\n",
       "      <td>1.388</td>\n",
       "      <td>NaN</td>\n",
       "      <td>120</td>\n",
       "    </tr>\n",
       "    <tr>\n",
       "      <th>605</th>\n",
       "      <td>605</td>\n",
       "      <td>OAS1_0449_MR1_180.png</td>\n",
       "      <td>OAS1_0449_MR1</td>\n",
       "      <td>F</td>\n",
       "      <td>R</td>\n",
       "      <td>71</td>\n",
       "      <td>3</td>\n",
       "      <td>4.0</td>\n",
       "      <td>29</td>\n",
       "      <td>0.0</td>\n",
       "      <td>1264</td>\n",
       "      <td>0.818</td>\n",
       "      <td>1.388</td>\n",
       "      <td>NaN</td>\n",
       "      <td>180</td>\n",
       "    </tr>\n",
       "    <tr>\n",
       "      <th>606</th>\n",
       "      <td>606</td>\n",
       "      <td>OAS1_0456_MR1_55.png</td>\n",
       "      <td>OAS1_0456_MR1</td>\n",
       "      <td>M</td>\n",
       "      <td>R</td>\n",
       "      <td>61</td>\n",
       "      <td>5</td>\n",
       "      <td>2.0</td>\n",
       "      <td>30</td>\n",
       "      <td>0.0</td>\n",
       "      <td>1637</td>\n",
       "      <td>0.780</td>\n",
       "      <td>1.072</td>\n",
       "      <td>NaN</td>\n",
       "      <td>55</td>\n",
       "    </tr>\n",
       "    <tr>\n",
       "      <th>607</th>\n",
       "      <td>607</td>\n",
       "      <td>OAS1_0456_MR1_120.png</td>\n",
       "      <td>OAS1_0456_MR1</td>\n",
       "      <td>M</td>\n",
       "      <td>R</td>\n",
       "      <td>61</td>\n",
       "      <td>5</td>\n",
       "      <td>2.0</td>\n",
       "      <td>30</td>\n",
       "      <td>0.0</td>\n",
       "      <td>1637</td>\n",
       "      <td>0.780</td>\n",
       "      <td>1.072</td>\n",
       "      <td>NaN</td>\n",
       "      <td>120</td>\n",
       "    </tr>\n",
       "    <tr>\n",
       "      <th>608</th>\n",
       "      <td>608</td>\n",
       "      <td>OAS1_0456_MR1_180.png</td>\n",
       "      <td>OAS1_0456_MR1</td>\n",
       "      <td>M</td>\n",
       "      <td>R</td>\n",
       "      <td>61</td>\n",
       "      <td>5</td>\n",
       "      <td>2.0</td>\n",
       "      <td>30</td>\n",
       "      <td>0.0</td>\n",
       "      <td>1637</td>\n",
       "      <td>0.780</td>\n",
       "      <td>1.072</td>\n",
       "      <td>NaN</td>\n",
       "      <td>180</td>\n",
       "    </tr>\n",
       "  </tbody>\n",
       "</table>\n",
       "<p>609 rows × 15 columns</p>\n",
       "</div>"
      ],
      "text/plain": [
       "     Unnamed: 0               Filename             ID M/F Hand  Age  Educ  \\\n",
       "0             0   OAS1_0001_MR1_55.png  OAS1_0001_MR1   F    R   74     2   \n",
       "1             1  OAS1_0001_MR1_120.png  OAS1_0001_MR1   F    R   74     2   \n",
       "2             2  OAS1_0001_MR1_180.png  OAS1_0001_MR1   F    R   74     2   \n",
       "3             3   OAS1_0002_MR1_55.png  OAS1_0002_MR1   F    R   55     4   \n",
       "4             4  OAS1_0002_MR1_120.png  OAS1_0002_MR1   F    R   55     4   \n",
       "..          ...                    ...            ...  ..  ...  ...   ...   \n",
       "604         604  OAS1_0449_MR1_120.png  OAS1_0449_MR1   F    R   71     3   \n",
       "605         605  OAS1_0449_MR1_180.png  OAS1_0449_MR1   F    R   71     3   \n",
       "606         606   OAS1_0456_MR1_55.png  OAS1_0456_MR1   M    R   61     5   \n",
       "607         607  OAS1_0456_MR1_120.png  OAS1_0456_MR1   M    R   61     5   \n",
       "608         608  OAS1_0456_MR1_180.png  OAS1_0456_MR1   M    R   61     5   \n",
       "\n",
       "     SES  MMSE  CDR  eTIV   nWBV    ASF  Delay  Slice  \n",
       "0    3.0    29  0.0  1344  0.743  1.306    NaN     55  \n",
       "1    3.0    29  0.0  1344  0.743  1.306    NaN    120  \n",
       "2    3.0    29  0.0  1344  0.743  1.306    NaN    180  \n",
       "3    1.0    29  0.0  1147  0.810  1.531    NaN     55  \n",
       "4    1.0    29  0.0  1147  0.810  1.531    NaN    120  \n",
       "..   ...   ...  ...   ...    ...    ...    ...    ...  \n",
       "604  4.0    29  0.0  1264  0.818  1.388    NaN    120  \n",
       "605  4.0    29  0.0  1264  0.818  1.388    NaN    180  \n",
       "606  2.0    30  0.0  1637  0.780  1.072    NaN     55  \n",
       "607  2.0    30  0.0  1637  0.780  1.072    NaN    120  \n",
       "608  2.0    30  0.0  1637  0.780  1.072    NaN    180  \n",
       "\n",
       "[609 rows x 15 columns]"
      ]
     },
     "metadata": {},
     "output_type": "display_data"
    }
   ],
   "source": [
    "# Problem 2\n",
    "import numpy as np\n",
    "from numpy import arange\n",
    "import io\n",
    "from PIL import Image\n",
    "import os\n",
    "import pandas as pd\n",
    "!pip install opencv-python\n",
    "import cv2\n",
    "from sklearn.linear_model import Ridge\n",
    "from sklearn.linear_model import Lasso\n",
    "from sklearn.linear_model import ElasticNet\n",
    "from sklearn.model_selection import train_test_split\n",
    "from matplotlib import pyplot as plt\n",
    "import matplotlib\n",
    "import io\n",
    "from PIL import Image\n",
    "!pip install path\n",
    "import path\n",
    "\n",
    "\n",
    "file_dir = \"./\"\n",
    "labels = pd.read_csv(file_dir + \"labels.csv\")\n",
    "file_dir += \"MRI_Images/\"\n",
    "display(labels)\n"
   ]
  },
  {
   "cell_type": "code",
   "execution_count": 26,
   "metadata": {},
   "outputs": [],
   "source": [
    "DS = 8             # Downsample rate, must be a multiple of 30976\n",
    "\n",
    "if 30976/DS % 1 > 0:\n",
    "    print(\"Downsample rate is not a multiple of 30976\")\n",
    "    DS = 1\n",
    "    im_size = 30976\n",
    "else:\n",
    "    im_size = int(30976/DS)\n",
    "\n",
    "\n",
    "data = np.zeros([609, im_size])\n",
    "\n",
    "\n",
    "for i, file_name in enumerate(labels['Filename']):\n",
    "        img = np.mean(matplotlib.image.imread(file_dir + file_name),axis=2).reshape(-1)\n",
    "        data[i,:] = img[::DS]            # Downsample the image"
   ]
  },
  {
   "cell_type": "code",
   "execution_count": 27,
   "metadata": {},
   "outputs": [],
   "source": [
    "flatteneddata = []\n",
    "Y =[]\n",
    "for i in range(len(labels)):\n",
    "    filename = labels.loc[i,'Filename']\n",
    "    y = labels.loc[i,'nWBV']\n",
    "    data = np.array(cv2.imread(file_dir + filename, 0))\n",
    "    flattened = data.flatten()\n",
    "    flatteneddata.append(flattened)\n",
    "    Y.append(y)"
   ]
  },
  {
   "cell_type": "code",
   "execution_count": 28,
   "metadata": {},
   "outputs": [],
   "source": [
    "X_train, X_test, y_train, y_test = train_test_split(flatteneddata, Y, test_size=0.25, random_state=255)"
   ]
  },
  {
   "cell_type": "code",
   "execution_count": 29,
   "metadata": {},
   "outputs": [],
   "source": [
    "alphas = [0.0001, 0.001, 0.01, 0.1, 1, 1.5, 10, 15, 20, 50, 100, 1000, 10000]\n",
    "scores_l2 = []\n",
    "\n",
    "for a in alphas:\n",
    "    clf = Ridge(alpha = a ,normalize= True).fit(X_train,y_train)\n",
    "    scores_l2.append(clf.score(X_test,y_test))\n",
    "\n",
    "scores_l2 = np.array(scores_l2)"
   ]
  },
  {
   "cell_type": "code",
   "execution_count": 30,
   "metadata": {},
   "outputs": [
    {
     "name": "stdout",
     "output_type": "stream",
     "text": [
      "Best alpha = 50\n"
     ]
    }
   ],
   "source": [
    "print(f\"Best alpha = {alphas[scores_l2.argmax()]}\")"
   ]
  },
  {
   "cell_type": "code",
   "execution_count": 31,
   "metadata": {},
   "outputs": [],
   "source": [
    "lmds = [0.00009, 0.0001, 0.0005, 0.001, 0.01]\n",
    "scores_l1 = []\n",
    "\n",
    "for lmd in lmds:\n",
    "    clf = Lasso(alpha=lmd, normalize=True).fit(X_train, y_train)\n",
    "    scores_l1.append(clf.score(X_test, y_test))\n",
    "\n",
    "scores_l1 = np.array(scores_l1)"
   ]
  },
  {
   "cell_type": "code",
   "execution_count": 32,
   "metadata": {},
   "outputs": [
    {
     "name": "stdout",
     "output_type": "stream",
     "text": [
      "Best lambda = 0.0001\n"
     ]
    }
   ],
   "source": [
    "print(f\"Best lambda = {lmds[scores_l1.argmax()]}\")"
   ]
  },
  {
   "cell_type": "code",
   "execution_count": 33,
   "metadata": {},
   "outputs": [],
   "source": [
    "alphas = [0.0001, 0.001, 0.01, 0.1, 1, 1.5, 10, 15, 20, 50, 100, 1000, 10000]\n",
    "lmds = [0.00009, 0.0001, 0.0005, 0.001, 0.01]\n",
    "scores_elastic = []\n",
    "\n",
    "for a in lmds:\n",
    "    scores = []\n",
    "    for b in alphas:\n",
    "        clf = ElasticNet(alpha=a + b, l1_ratio=a / (a + b), normalize=True).fit(X_train, y_train)\n",
    "        scores.append(clf.score(X_test, y_test))\n",
    "    scores_elastic.append(np.array(scores))\n",
    "\n",
    "scores_elastic = np.array(scores_elastic)"
   ]
  },
  {
   "cell_type": "code",
   "execution_count": 34,
   "metadata": {},
   "outputs": [],
   "source": [
    "lmd_argmax, alp_argmax =  np.unravel_index(np.argmax(scores_elastic, axis=None), scores_elastic.shape)"
   ]
  },
  {
   "cell_type": "code",
   "execution_count": 36,
   "metadata": {},
   "outputs": [
    {
     "name": "stdout",
     "output_type": "stream",
     "text": [
      "Best (alpha, lambda) = (0.01, 9e-05)\n"
     ]
    }
   ],
   "source": [
    "print(f\"Best (alpha, lambda) = ({alphas[alp_argmax]}, {lmds[lmd_argmax]})\")"
   ]
  },
  {
   "cell_type": "code",
   "execution_count": null,
   "metadata": {},
   "outputs": [],
   "source": []
  }
 ],
 "metadata": {
  "kernelspec": {
   "display_name": "Python 3 (ipykernel)",
   "language": "python",
   "name": "python3"
  },
  "language_info": {
   "codemirror_mode": {
    "name": "ipython",
    "version": 3
   },
   "file_extension": ".py",
   "mimetype": "text/x-python",
   "name": "python",
   "nbconvert_exporter": "python",
   "pygments_lexer": "ipython3",
   "version": "3.9.7"
  }
 },
 "nbformat": 4,
 "nbformat_minor": 2
}
