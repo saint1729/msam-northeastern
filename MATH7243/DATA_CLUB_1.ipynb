{
 "cells": [
  {
   "cell_type": "markdown",
   "id": "3ac5998b",
   "metadata": {},
   "source": [
    "### 58. Length of Last Word\n",
    "Given a string s consisting of some words separated by some number of spaces, return the length of the last word in the string.\n",
    "\n",
    "A word is a maximal substring consisting of non-space characters only.\n",
    "\n",
    "Input: s = \"Hello World\"\n",
    "Output: 5\n",
    "Explanation: The last word is \"World\" with length 5."
   ]
  },
  {
   "cell_type": "markdown",
   "id": "49491701",
   "metadata": {},
   "source": [
    "method1:"
   ]
  },
  {
   "cell_type": "markdown",
   "id": "64f5c0dd",
   "metadata": {},
   "source": [
    "Use the .split()"
   ]
  },
  {
   "cell_type": "code",
   "execution_count": 2,
   "id": "d2a1fd2e",
   "metadata": {},
   "outputs": [
    {
     "name": "stdout",
     "output_type": "stream",
     "text": [
      "['welcome', 'to', 'the', 'jungle']\n"
     ]
    }
   ],
   "source": [
    "txt = \"welcome to the jungle\"\n",
    "\n",
    "x = txt.split()\n",
    "\n",
    "print(x)"
   ]
  },
  {
   "cell_type": "code",
   "execution_count": 3,
   "id": "18873bee",
   "metadata": {},
   "outputs": [
    {
     "name": "stdout",
     "output_type": "stream",
     "text": [
      "['hello', 'my name is Peter', 'I am 26 years old']\n"
     ]
    }
   ],
   "source": [
    "#with comma \n",
    "txt = \"hello, my name is Peter, I am 26 years old\"\n",
    "\n",
    "x = txt.split(\", \")\n",
    "\n",
    "print(x)"
   ]
  },
  {
   "cell_type": "code",
   "execution_count": 4,
   "id": "862d1725",
   "metadata": {},
   "outputs": [
    {
     "name": "stdout",
     "output_type": "stream",
     "text": [
      "['apple', 'banana', 'cherry', 'orange']\n"
     ]
    }
   ],
   "source": [
    "#with hashtag\n",
    "txt = \"apple#banana#cherry#orange\"\n",
    "\n",
    "x = txt.split(\"#\")\n",
    "\n",
    "print(x)"
   ]
  },
  {
   "cell_type": "code",
   "execution_count": 5,
   "id": "eed69517",
   "metadata": {},
   "outputs": [
    {
     "name": "stdout",
     "output_type": "stream",
     "text": [
      "['apple', 'banana#cherry#orange']\n"
     ]
    }
   ],
   "source": [
    "txt = \"apple#banana#cherry#orange\"\n",
    "\n",
    "# setting the maxsplit parameter to 1, will return a list with 2 elements!\n",
    "x = txt.split(\"#\", 1)#do 1 split\n",
    "\n",
    "print(x)"
   ]
  },
  {
   "cell_type": "code",
   "execution_count": 6,
   "id": "43b211b9",
   "metadata": {},
   "outputs": [
    {
     "name": "stdout",
     "output_type": "stream",
     "text": [
      "['apple', 'banana', 'cherry#orange']\n"
     ]
    }
   ],
   "source": [
    "x = txt.split(\"#\", 2)\n",
    "print(x)"
   ]
  },
  {
   "cell_type": "markdown",
   "id": "bb93fedc",
   "metadata": {},
   "source": [
    "Solution:"
   ]
  },
  {
   "cell_type": "code",
   "execution_count": 21,
   "id": "709f9fb6",
   "metadata": {},
   "outputs": [
    {
     "data": {
      "text/plain": [
       "5"
      ]
     },
     "execution_count": 21,
     "metadata": {},
     "output_type": "execute_result"
    }
   ],
   "source": [
    "class Solution(object):\n",
    "    def lengthOfLastWord(self, s):\n",
    "        \"\"\"\n",
    "        :type s: str\n",
    "        :rtype: int\n",
    "        \"\"\"\n",
    "        return len(s.split()[-1])\n",
    "test=Solution()\n",
    "test.lengthOfLastWord(\"hello world\")\n",
    "\n"
   ]
  },
  {
   "cell_type": "code",
   "execution_count": 31,
   "id": "43402bfa",
   "metadata": {},
   "outputs": [
    {
     "data": {
      "text/plain": [
       "4"
      ]
     },
     "execution_count": 31,
     "metadata": {},
     "output_type": "execute_result"
    }
   ],
   "source": [
    "a=[1,2,4,4]\n",
    "a[-1]"
   ]
  },
  {
   "cell_type": "markdown",
   "id": "57efa2ba",
   "metadata": {},
   "source": [
    "method2:"
   ]
  },
  {
   "cell_type": "code",
   "execution_count": 33,
   "id": "7da78ffa",
   "metadata": {},
   "outputs": [
    {
     "name": "stdout",
     "output_type": "stream",
     "text": [
      "[8, 7, 6, 5, 4, 3, 2, 1, 0]\n"
     ]
    }
   ],
   "source": [
    "#hint\n",
    "hint=range(8,-1,-1)\n",
    "print(list(hint))"
   ]
  },
  {
   "cell_type": "code",
   "execution_count": 11,
   "id": "432ec440",
   "metadata": {},
   "outputs": [
    {
     "name": "stdout",
     "output_type": "stream",
     "text": [
      "[11, 10, 9, 8, 7, 6, 5, 4, 3, 2, 1, 0]\n"
     ]
    }
   ],
   "source": [
    "s=\"hello world!\"\n",
    "a=range(len(s)-1,-1,-1)\n",
    "print(list(a))"
   ]
  },
  {
   "cell_type": "code",
   "execution_count": 20,
   "id": "f326b1af",
   "metadata": {},
   "outputs": [
    {
     "data": {
      "text/plain": [
       "4"
      ]
     },
     "execution_count": 20,
     "metadata": {},
     "output_type": "execute_result"
    }
   ],
   "source": [
    "class Solution:\n",
    "    def lengthOfLastWord(self, s: str) -> int:\n",
    "        ans = 0\n",
    "        for i in range(len(s)-1, -1, -1):\n",
    "            if s[i] != ' ':\n",
    "                ans += 1\n",
    "            elif ans:\n",
    "                return ans\n",
    "        return ans\n",
    "test=Solution()\n",
    "test.lengthOfLastWord(\"hello guys\")\n"
   ]
  },
  {
   "cell_type": "markdown",
   "id": "828e6100",
   "metadata": {},
   "source": [
    "### 1291. Sequential Digits\n",
    "An integer has sequential digits if and only if each digit in the number is one more than the previous digit.\n",
    "\n",
    "Return a sorted list of all the integers in the range [low, high] inclusive that have sequential digits.\n",
    "\n",
    "Example1:\n",
    "Input: low = 100, high = 300\n",
    "Output: [123,234]\n",
    "\n",
    "Example2:\n",
    "Input: low = 1000, high = 13000\n",
    "Output: [1234,2345,3456,4567,5678,6789,12345]\n",
    "\n",
    "Constraints:\n",
    "10 <= low <= high <= 10^9\n",
    "\n",
    "        "
   ]
  },
  {
   "cell_type": "markdown",
   "id": "b53b4838",
   "metadata": {},
   "source": [
    "The list() constructor returns a list.\n",
    "If no parameters are passed, it returns an empty list.\n"
   ]
  },
  {
   "cell_type": "code",
   "execution_count": 13,
   "id": "1c72e004",
   "metadata": {},
   "outputs": [
    {
     "name": "stdout",
     "output_type": "stream",
     "text": [
      "[]\n"
     ]
    }
   ],
   "source": [
    "print(list())"
   ]
  },
  {
   "cell_type": "code",
   "execution_count": 5,
   "id": "4cfcbdcf",
   "metadata": {},
   "outputs": [
    {
     "data": {
      "text/plain": [
       "[0, 1, 2, 3, 4, 5, 6, 7, 8, 9]"
      ]
     },
     "execution_count": 5,
     "metadata": {},
     "output_type": "execute_result"
    }
   ],
   "source": [
    "list(range(10))"
   ]
  },
  {
   "cell_type": "code",
   "execution_count": 6,
   "id": "be832df2",
   "metadata": {},
   "outputs": [
    {
     "data": {
      "text/plain": [
       "[1, 2, 3, 4, 5, 6, 7, 8, 9]"
      ]
     },
     "execution_count": 6,
     "metadata": {},
     "output_type": "execute_result"
    }
   ],
   "source": [
    "list(range(1,10))"
   ]
  },
  {
   "cell_type": "code",
   "execution_count": 34,
   "id": "e22cb8e2",
   "metadata": {},
   "outputs": [
    {
     "data": {
      "text/plain": [
       "[5, 6, 7, 8, 9]"
      ]
     },
     "execution_count": 34,
     "metadata": {},
     "output_type": "execute_result"
    }
   ],
   "source": [
    "list(range(5,10))"
   ]
  },
  {
   "cell_type": "code",
   "execution_count": 12,
   "id": "e8be4730",
   "metadata": {},
   "outputs": [
    {
     "data": {
      "text/plain": [
       "[123, 'xyz', 'zara', 'abc', 2009]"
      ]
     },
     "execution_count": 12,
     "metadata": {},
     "output_type": "execute_result"
    }
   ],
   "source": [
    "aList = [123, 'xyz', 'zara', 'abc'];\n",
    "aList.append( 2009 );\n",
    "aList"
   ]
  },
  {
   "cell_type": "code",
   "execution_count": 2,
   "id": "4dddb9bc",
   "metadata": {},
   "outputs": [],
   "source": [
    "class Solution:\n",
    "    def sequentialDigits(self, low: int, high: int):\n",
    "        ans = list()\n",
    "        for i in range(1, 10):\n",
    "            num = i\n",
    "            for j in range(i + 1, 10):\n",
    "                num = num * 10 + j\n",
    "                if low <= num <= high:\n",
    "                    ans.append(num)\n",
    "        return sorted(ans)\n"
   ]
  },
  {
   "cell_type": "markdown",
   "id": "5f829ea4",
   "metadata": {},
   "source": [
    "### 1903. Largest Odd Number in String\n",
    "You are given a string num, representing a large integer. Return the largest-valued odd integer (as a string) that is a non-empty substring of num, or an empty string \"\" if no odd integer exists.\n",
    "\n",
    "A substring is a contiguous sequence of characters within a string.\n",
    "\n",
    "Example 1:\n",
    "\n",
    "Input: num = \"52\"\n",
    "Output: \"5\"\n",
    "Explanation: The only non-empty substrings are \"5\", \"2\", and \"52\". \"5\" is the only odd number.\n",
    "Example 2:\n",
    "\n",
    "Input: num = \"4206\"\n",
    "Output: \"\"\n",
    "Explanation: There are no odd numbers in \"4206\".\n",
    "Example 3:\n",
    "\n",
    "Input: num = \"35427\"\n",
    "Output: \"35427\"\n",
    "Explanation: \"35427\" is already an odd number.\n",
    " \n",
    "\n",
    "Input: num= \"35478\"\n",
    "Output: \"3547\"\n",
    "\n",
    "Input: num= \"35408\"\n",
    "Output: \"35\"\n",
    "\n",
    "Constraints:\n",
    "\n",
    "1 <= num.length <= 105\n",
    "num only consists of digits and does not contain any leading zeros."
   ]
  },
  {
   "cell_type": "code",
   "execution_count": 14,
   "id": "f4138e2a",
   "metadata": {},
   "outputs": [],
   "source": [
    "class Solution:\n",
    "    def largestOddNumber(self, num: str) -> str:\n",
    "        n = len(num)\n",
    "        for i in range(n - 1, -1, -1):\n",
    "            if int(num[i]) % 2 == 1:   \n",
    "                return num[:i+1]\n",
    "            #from right to left, if the first odd string is found, then return num[0:i+1]\n",
    "        return \"\"\n",
    "         #if odd strings are not found, then return \"\"\n"
   ]
  },
  {
   "cell_type": "code",
   "execution_count": 16,
   "id": "dbc19368",
   "metadata": {},
   "outputs": [
    {
     "data": {
      "text/plain": [
       "[5, 4, 3, 2, 1, 0]"
      ]
     },
     "execution_count": 16,
     "metadata": {},
     "output_type": "execute_result"
    }
   ],
   "source": [
    "list(range(5,-1,-1))"
   ]
  },
  {
   "cell_type": "markdown",
   "id": "f2c1653c",
   "metadata": {},
   "source": [
    "### Binary Tree"
   ]
  },
  {
   "cell_type": "markdown",
   "id": "92888b70",
   "metadata": {},
   "source": [
    "https://dev.to/christinamcmahon/understanding-binary-search-trees-4d90"
   ]
  },
  {
   "cell_type": "markdown",
   "id": "dd0d1373",
   "metadata": {},
   "source": []
  },
  {
   "cell_type": "code",
   "execution_count": 66,
   "id": "d8884e2f",
   "metadata": {},
   "outputs": [
    {
     "name": "stdout",
     "output_type": "stream",
     "text": [
      "Binary Tree Level Order Traversal\n",
      "3 | 9 20 | 15 7 | "
     ]
    }
   ],
   "source": [
    "#https://blog.csdn.net/baoxin1100/article/details/108025393\n",
    "class Node(object):\n",
    "    def __init__(self, x):\n",
    "        self.val = x\n",
    "        self.left = None\n",
    "        self.right = None\n",
    "# generate a tree\n",
    "def generate_tree(vals):\n",
    "    if len(vals) == 0:\n",
    "        return None\n",
    "    que = [] # define a queue\n",
    "    fill_left = True \n",
    "    for val in vals:\n",
    "        node = Node(val) if val else None \n",
    "        if len(que)==0:\n",
    "            root = node \n",
    "            que.append(node)\n",
    "        elif fill_left:\n",
    "            que[0].left = node\n",
    "            fill_left = False \n",
    "            if node: \n",
    "                que.append(node)\n",
    "        else:\n",
    "            que[0].right = node\n",
    "            if node:\n",
    "                que.append(node)\n",
    "            que.pop(0) \n",
    "            fill_left = True # \n",
    "    return root\n",
    "\n",
    "\n",
    "def bfs(node):\n",
    "    que = []\n",
    "    que.append(node)\n",
    "    while que:\n",
    "        l = len(que)\n",
    "        for _ in range(l):\n",
    "            tmp = que.pop(0)\n",
    "            print(tmp.val, end=' ')\n",
    "            if tmp.left:\n",
    "                que.append(tmp.left)\n",
    "            if tmp.right:\n",
    "                que.append(tmp.right)\n",
    "        print('|', end=' ')\n",
    "\n",
    "# test\n",
    "null = None\n",
    "vals = [3,9,20,null,null,15,7]\n",
    "tree = generate_tree(vals) \n",
    "print('Binary Tree Level Order Traversal')\n",
    "bfs(tree) # 3 | 9 20 | 15 7 |\n",
    "#    3\n",
    "#   / \\\n",
    "#  9  20\n",
    "#    /  \\\n",
    "#   15   7"
   ]
  },
  {
   "cell_type": "markdown",
   "id": "234b918e",
   "metadata": {},
   "source": [
    "### 701. Insert into a Binary Search Tree"
   ]
  },
  {
   "cell_type": "markdown",
   "id": "0f93d1f2",
   "metadata": {},
   "source": [
    "https://www.tutorialspoint.com/python_data_structure/python_tree_traversal_algorithms.htm"
   ]
  },
  {
   "cell_type": "code",
   "execution_count": 80,
   "id": "605131ab",
   "metadata": {},
   "outputs": [],
   "source": [
    "class Node:\n",
    "\n",
    "    def __init__(self, data):\n",
    "\n",
    "        self.left = None\n",
    "        self.right = None\n",
    "        self.data = data\n",
    "# Insert Node\n",
    "    def insert(self, data):\n",
    "\n",
    "        if self.data:\n",
    "            if data < self.data:\n",
    "                if self.left is None:\n",
    "                    self.left = Node(data)\n",
    "                else:\n",
    "                    self.left.insert(data)\n",
    "            elif data > self.data:\n",
    "                if self.right is None:\n",
    "                    self.right = Node(data)\n",
    "                else:\n",
    "                    self.right.insert(data)\n",
    "        else:\n",
    "            self.data = data\n",
    "\n",
    "# Print the Tree\n",
    "    def PrintTree(self):\n",
    "        if self.left:\n",
    "            self.left.PrintTree()\n",
    "        print( self.data),\n",
    "        if self.right:\n",
    "            self.right.PrintTree()\n",
    "\n",
    "# Preorder traversal\n",
    "# Root -> Left ->Right\n",
    "    def PreorderTraversal(self, root):\n",
    "        res = []\n",
    "        if root:\n",
    "            res.append(root.data)\n",
    "            res = res + self.PreorderTraversal(root.left)\n",
    "            res = res + self.PreorderTraversal(root.right)\n",
    "        return res\n",
    "\n",
    "# For the tree,\n",
    "#          10\n",
    "#        /    \\\n",
    "#       34      89\n",
    "#     /    \\  /    \\\n",
    "#  20     45  56    54\n",
    "\n",
    "# Preorder traversal: 10 34 20 45 89 56 54"
   ]
  },
  {
   "cell_type": "code",
   "execution_count": 63,
   "id": "06d2a2e0",
   "metadata": {},
   "outputs": [
    {
     "name": "stdout",
     "output_type": "stream",
     "text": [
      "[27, 14, 10, 19, 35, 31, 42]\n"
     ]
    }
   ],
   "source": [
    "root = Node(27)\n",
    "root.insert(14)\n",
    "root.insert(35)\n",
    "root.insert(10)\n",
    "root.insert(19)\n",
    "root.insert(31)\n",
    "root.insert(42)\n",
    "print(root.PreorderTraversal(root))"
   ]
  },
  {
   "cell_type": "markdown",
   "id": "1669635e",
   "metadata": {},
   "source": [
    "### 104. Maximum Depth of Binary Tree"
   ]
  },
  {
   "cell_type": "markdown",
   "id": "c08dda67",
   "metadata": {},
   "source": [
    "\n",
    "Given the root of a binary tree, return its maximum depth.\n",
    "\n",
    "A binary tree's maximum depth is the number of nodes along the longest path from the root node down to the farthest leaf node.\n",
    "\n",
    "Example 1:\n",
    "Input: root = [3,9,20,null,null,15,7]\n",
    "Output: 3\n",
    "\n",
    "Example 2:\n",
    "Input: root = [1,null,2]\n",
    "Output: 2\n",
    " \n",
    "\n",
    "Constraints:\n",
    "The number of nodes in the tree is in the range [0, 104].\n",
    "-100 <= Node.val <= 100"
   ]
  },
  {
   "cell_type": "code",
   "execution_count": 81,
   "id": "66a99756",
   "metadata": {},
   "outputs": [],
   "source": [
    "class Solution:\n",
    "    def maxDepth(self, root):\n",
    "        #always remember to consider when the root is null\n",
    "        if root is None: \n",
    "            return 0 \n",
    "        else: \n",
    "            left_height = self.maxDepth(root.left) \n",
    "            right_height = self.maxDepth(root.right) \n",
    "            return max(left_height, right_height) + 1 \n",
    "null = None\n",
    "vals = [3,9,20,null,null,15,7]\n",
    "root = generate_tree(vals) \n",
    "\n"
   ]
  },
  {
   "cell_type": "markdown",
   "id": "8125556e",
   "metadata": {},
   "source": [
    "### 111. Minimum Depth of Binary Tree\n",
    "Given a binary tree, find its minimum depth.\n",
    "\n",
    "The minimum depth is the number of nodes along the shortest path from the root node down to the nearest leaf node.\n",
    "\n",
    "Note: A leaf is a node with no children.\n",
    "\n",
    "Example 1:\n",
    "Input: root = [3,9,20,null,null,15,7]\n",
    "Output: 2\n",
    "\n",
    "Example 2:\n",
    "Input: root = [2,null,3,null,4,null,5,null,6]\n",
    "Output: 5\n",
    " \n",
    "\n",
    "Constraints:\n",
    "The number of nodes in the tree is in the range [0, 105].\n",
    "-1000 <= Node.val <= 1000"
   ]
  },
  {
   "cell_type": "code",
   "execution_count": 36,
   "id": "ef154ed0",
   "metadata": {},
   "outputs": [],
   "source": [
    "class Solution:\n",
    "    def minDepth(self, root: TreeNode) -> int:\n",
    "        if not root:\n",
    "            return 0\n",
    "        \n",
    "        if not root.left and not root.right:\n",
    "            return 1\n",
    "        \n",
    "        min_depth = 10**9\n",
    "        if root.left:\n",
    "            min_depth = min(self.minDepth(root.left), min_depth)\n",
    "        if root.right:\n",
    "            min_depth = min(self.minDepth(root.right), min_depth)\n",
    "        \n",
    "        return min_depth + 1\n",
    "\n"
   ]
  },
  {
   "cell_type": "markdown",
   "id": "c64a31b7",
   "metadata": {},
   "source": [
    "### What is the difference between supervised and unsupervised machine learning?"
   ]
  },
  {
   "cell_type": "markdown",
   "id": "71b91ba7",
   "metadata": {},
   "source": [
    "If you’re learning a task under supervision, someone is present judging whether you’re getting the right answer. Similarly, in supervised learning, that means having a full set of labeled data while training an algorithm."
   ]
  },
  {
   "cell_type": "markdown",
   "id": "f784c2aa",
   "metadata": {},
   "source": [
    "### What is overfitting and how to fix it?"
   ]
  },
  {
   "cell_type": "markdown",
   "id": "2a4b7390",
   "metadata": {},
   "source": [
    "https://towardsdatascience.com/8-simple-techniques-to-prevent-overfitting-4d443da2ef7d\n",
    "Overfitting occurs when the model performs well on training data but generalizes poorly to unseen data."
   ]
  },
  {
   "cell_type": "markdown",
   "id": "502c9e90",
   "metadata": {},
   "source": [
    "1. Hold-out (data)\n",
    "Rather than using all of our data for training, we can simply split our dataset into two sets: training and testing. A common split ratio is 80% for training and 20% for testing. We train our model until it performs well not only on the training set but also for the testing set. This indicates good generalization capability since the testing set represents unseen data that were not used for training. However, this approach would require a sufficiently large dataset to train on even after splitting."
   ]
  },
  {
   "cell_type": "markdown",
   "id": "f51c559f",
   "metadata": {},
   "source": [
    "2. Cross-validation (data)\n",
    "We can split our dataset into k groups (k-fold cross-validation). We let one of the groups to be the testing set (please see hold-out explanation) and the others as the training set, and repeat this process until each individual group has been used as the testing set (e.g., k repeats). Unlike hold-out, cross-validation allows all data to be eventually used for training but is also more computationally expensive than hold-out.\n"
   ]
  },
  {
   "cell_type": "markdown",
   "id": "8918a575",
   "metadata": {},
   "source": [
    "3. Data augmentation (data)\n",
    "A larger dataset would reduce overfitting. If we cannot gather more data and are constrained to the data we have in our current dataset, we can apply data augmentation to artificially increase the size of our dataset. For example, if we are training for an image classification task, we can perform various image transformations to our image dataset (e.g., flipping, rotating, rescaling, shifting).\n"
   ]
  },
  {
   "cell_type": "markdown",
   "id": "ce7220a2",
   "metadata": {},
   "source": [
    "4. Feature selection (data)\n",
    "If we have only a limited amount of training samples, each with a large number of features, we should only select the most important features for training so that our model doesn’t need to learn for so many features and eventually overfit. We can simply test out different features, train individual models for these features, and evaluate generalization capabilities, or use one of the various widely used feature selection methods.\n"
   ]
  },
  {
   "cell_type": "markdown",
   "id": "d032b7ad",
   "metadata": {},
   "source": [
    "5. L1 / L2 regularization (learning algorithm)\n",
    "Regularization is a technique to constrain our network from learning a model that is too complex, which may therefore overfit. In L1 or L2 regularization, we can add a penalty term on the cost function to push the estimated coefficients towards zero (and not take more extreme values). L2 regularization allows weights to decay towards zero but not to zero, while L1 regularization allows weights to decay to zero."
   ]
  },
  {
   "cell_type": "markdown",
   "id": "76483c6f",
   "metadata": {},
   "source": [
    "6. Early stopping (model)\n",
    "We can first train our model for an arbitrarily large number of epochs and plot the validation loss graph (e.g., using hold-out). Once the validation loss begins to degrade (e.g., stops decreasing but rather begins increasing), we stop the training and save the current model. We can implement this either by monitoring the loss graph or set an early stopping trigger. The saved model would be the optimal model for generalization among different training epoch values.\n"
   ]
  },
  {
   "cell_type": "markdown",
   "id": "eea49964",
   "metadata": {},
   "source": [
    "### Define precision and recall."
   ]
  },
  {
   "cell_type": "markdown",
   "id": "0ad8750b",
   "metadata": {},
   "source": [
    "https://en.wikipedia.org/wiki/Precision_and_recall"
   ]
  }
 ],
 "metadata": {
  "kernelspec": {
   "display_name": "Python 3 (ipykernel)",
   "language": "python",
   "name": "python3"
  },
  "language_info": {
   "codemirror_mode": {
    "name": "ipython",
    "version": 3
   },
   "file_extension": ".py",
   "mimetype": "text/x-python",
   "name": "python",
   "nbconvert_exporter": "python",
   "pygments_lexer": "ipython3",
   "version": "3.9.7"
  }
 },
 "nbformat": 4,
 "nbformat_minor": 5
}
