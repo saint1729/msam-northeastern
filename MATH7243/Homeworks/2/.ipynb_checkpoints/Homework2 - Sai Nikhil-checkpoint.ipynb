{
 "cells": [
  {
   "cell_type": "markdown",
   "id": "37eda465",
   "metadata": {},
   "source": [
    "# Problem 2"
   ]
  },
  {
   "cell_type": "code",
   "execution_count": 1,
   "id": "783ca71a",
   "metadata": {},
   "outputs": [],
   "source": [
    "import numpy as np\n",
    "import matplotlib.pyplot as plt"
   ]
  },
  {
   "cell_type": "code",
   "execution_count": 2,
   "id": "a6af41a7",
   "metadata": {},
   "outputs": [],
   "source": [
    "x = np.array([1.2, 3.2, 5.1, 3.5, 2.6]).reshape((-1, 1))\n",
    "y = np.array([7.8, 1.2, 6.4, 2.6, 8.1]).reshape((-1, 1))"
   ]
  },
  {
   "cell_type": "code",
   "execution_count": 3,
   "id": "2f291203",
   "metadata": {},
   "outputs": [],
   "source": [
    "def normal_equation(x, y, lmd=0):\n",
    "    n, d = x.shape[0], x.shape[1]\n",
    "    ones = np.ones(n).reshape(-1, 1)\n",
    "    x = np.hstack((ones, x))\n",
    "    return np.linalg.inv(x.T @ x + (lmd**2) * np.eye(d + 1)) @ x.T @ y"
   ]
  },
  {
   "cell_type": "code",
   "execution_count": 4,
   "id": "d9bf3fa5",
   "metadata": {},
   "outputs": [
    {
     "name": "stdout",
     "output_type": "stream",
     "text": [
      "2a)\n",
      "Equation for lambda = 0 is y = -0.6766317887394105 * x + 7.331091180866961\n",
      "Equation for lambda = 1 is y = 0.47491248541423553 * x + 3.1152275379229852\n",
      "Equation for lambda = 10 is y = 0.4671668474177275 * x + 0.1791637826693662\n"
     ]
    }
   ],
   "source": [
    "lmd = [0, 1, 10]\n",
    "theta = []\n",
    "print(\"2a)\")\n",
    "for i, l in enumerate(lmd):\n",
    "    theta.append(normal_equation(x, y, l))\n",
    "    print(f\"Equation for lambda = {l} is y = {theta[i][1][0]} * x + {theta[i][0][0]}\")"
   ]
  },
  {
   "cell_type": "code",
   "execution_count": 5,
   "id": "54c8cd42",
   "metadata": {},
   "outputs": [
    {
     "data": {
      "image/png": "[encoded data removed]",
      "text/plain": [
       "<Figure size 432x288 with 1 Axes>"
      ]
     },
     "metadata": {
      "needs_background": "light"
     },
     "output_type": "display_data"
    }
   ],
   "source": [
    "x1 = np.linspace(1, 6, 100).reshape((-1, 1))\n",
    "n, d = x1.shape[0], x1.shape[1]\n",
    "ones = np.ones(n).reshape(-1, 1)\n",
    "x1 = np.hstack((ones, x1))\n",
    "y1 = x1 @ theta[0]\n",
    "\n",
    "x2 = np.linspace(1, 6, 100).reshape((-1, 1))\n",
    "n, d = x2.shape[0], x2.shape[1]\n",
    "ones = np.ones(n).reshape(-1, 1)\n",
    "x2 = np.hstack((ones, x2))\n",
    "y2 = x2 @ theta[1]\n",
    "\n",
    "x3 = np.linspace(1, 6, 100).reshape((-1, 1))\n",
    "n, d = x3.shape[0], x3.shape[1]\n",
    "ones = np.ones(n).reshape(-1, 1)\n",
    "x3 = np.hstack((ones, x3))\n",
    "y3 = x3 @ theta[2]\n",
    "\n",
    "\n",
    "plt.plot(x1, y1, '-r')\n",
    "plt.plot(x2, y2, '-g')\n",
    "plt.plot(x3, y3, '-b')\n",
    "plt.plot(x, y, 'yx')\n",
    "plt.axis([1, 6, 1, 10])\n",
    "plt.xlabel('x')\n",
    "plt.ylabel('y')\n",
    "plt.title('linear regression fit')\n",
    "plt.show()"
   ]
  },
  {
   "cell_type": "markdown",
   "id": "2b4727f9",
   "metadata": {},
   "source": [
    "## 2b\n",
    "\n",
    "From the above plots, it is clear that when $\\lambda = 0$ (or no regularization), it is overfitting the outliers (<b>Red line</b>). When $\\lambda = 1$, it is just fitting the data (<b>Green line</b>) and not sensitive to outliers. When $\\lambda = 10$, there is too much of regularization. Hence, it is underfitting the data (<b>Blue line</b>). "
   ]
  },
  {
   "cell_type": "markdown",
   "id": "25ff6b99",
   "metadata": {},
   "source": [
    "# Problem 4"
   ]
  },
  {
   "cell_type": "code",
   "execution_count": 6,
   "id": "abfea77d",
   "metadata": {},
   "outputs": [],
   "source": [
    "def get_gradient(beta, g, x, y):\n",
    "    del_g = np.array([x * np.cos(beta[1][0] * x), -x * np.sin(beta[2][0] * x)]).reshape((10, 2))\n",
    "    n = x.shape[0]\n",
    "    del_g = np.hstack((del_g, np.ones(n).reshape(-1, 1)))\n",
    "    return np.sum(2 * (g(beta, x) - y) * del_g, axis=0).reshape((-1, 1))"
   ]
  },
  {
   "cell_type": "code",
   "execution_count": 7,
   "id": "ee8beb27",
   "metadata": {},
   "outputs": [],
   "source": [
    "def g(beta, x):\n",
    "    return beta[0][0] + np.sin(beta[1][0] * x) + np.cos(beta[2][0] * x)"
   ]
  },
  {
   "cell_type": "code",
   "execution_count": 8,
   "id": "5332a1a2",
   "metadata": {},
   "outputs": [],
   "source": [
    "def RSS(beta, g, x, y):\n",
    "    return np.sum((g(beta, x) - y)**2)"
   ]
  },
  {
   "cell_type": "code",
   "execution_count": 9,
   "id": "244a2ad5",
   "metadata": {},
   "outputs": [],
   "source": [
    "def gradient_descent(g, x, y, lr=0.01, iterations=100, threshold=0.001):\n",
    "    beta = np.array([np.random.rand(), np.random.rand(), np.random.rand()]).reshape((-1, 1))\n",
    "    beta_prev = beta\n",
    "    \n",
    "    losses = []\n",
    "    for i in range(iterations):\n",
    "        gradient = get_gradient(beta_prev, g, x, y)\n",
    "        beta = beta_prev - lr * gradient\n",
    "        if np.all(np.abs(beta - beta_prev) < threshold):\n",
    "            print(f\"Convergence found at iteration {i}.\")\n",
    "            break\n",
    "        beta_prev = beta\n",
    "        losses.append(RSS(beta, g, x, y))\n",
    "    \n",
    "    return losses, beta"
   ]
  },
  {
   "cell_type": "code",
   "execution_count": 10,
   "id": "7f5bec67",
   "metadata": {},
   "outputs": [],
   "source": [
    "x = np.array([0, 2, 4, 6, 8, 10, 12, 14, 16, 18])\n",
    "y = np.array([2.85, 1.5, 0.49, 1.57, 1.9, 0.6, 0.38, 2.33, 1.65, 0.3])\n",
    "x = x.reshape((-1, 1))\n",
    "y = y.reshape((-1, 1))"
   ]
  },
  {
   "cell_type": "code",
   "execution_count": 11,
   "id": "90c0af1f",
   "metadata": {},
   "outputs": [],
   "source": [
    "losses, beta = gradient_descent(g, x, y, lr=0.0001, iterations=50, threshold=0.00001)"
   ]
  },
  {
   "cell_type": "code",
   "execution_count": 12,
   "id": "0814bfb4",
   "metadata": {},
   "outputs": [
    {
     "data": {
      "image/png": "[encoded data removed]",
      "text/plain": [
       "<Figure size 432x288 with 1 Axes>"
      ]
     },
     "metadata": {
      "needs_background": "light"
     },
     "output_type": "display_data"
    }
   ],
   "source": [
    "plt.plot(losses, 'rx')\n",
    "plt.xlabel('iterations')\n",
    "plt.ylabel('losses')\n",
    "plt.title('iterations vs loss plot')\n",
    "plt.show()"
   ]
  },
  {
   "cell_type": "code",
   "execution_count": null,
   "id": "d5ca3745",
   "metadata": {},
   "outputs": [],
   "source": []
  }
 ],
 "metadata": {
  "kernelspec": {
   "display_name": "Python 3 (ipykernel)",
   "language": "python",
   "name": "python3"
  },
  "language_info": {
   "codemirror_mode": {
    "name": "ipython",
    "version": 3
   },
   "file_extension": ".py",
   "mimetype": "text/x-python",
   "name": "python",
   "nbconvert_exporter": "python",
   "pygments_lexer": "ipython3",
   "version": "3.9.7"
  }
 },
 "nbformat": 4,
 "nbformat_minor": 5
}
