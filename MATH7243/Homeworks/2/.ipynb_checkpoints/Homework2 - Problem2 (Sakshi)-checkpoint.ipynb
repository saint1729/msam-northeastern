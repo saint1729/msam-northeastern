{
 "cells": [
  {
   "cell_type": "markdown",
   "id": "37eda465",
   "metadata": {},
   "source": [
    "# Problem 2"
   ]
  },
  {
   "cell_type": "code",
   "execution_count": 2,
   "id": "783ca71a",
   "metadata": {},
   "outputs": [],
   "source": [
    "import numpy as np\n",
    "import matplotlib.pyplot as plt"
   ]
  },
  {
   "cell_type": "code",
   "execution_count": 3,
   "id": "a6af41a7",
   "metadata": {},
   "outputs": [],
   "source": [
    "x = np.array([1.2, 3.2, 5.1, 3.5, 2.6])\n",
    "y = np.array([7.8, 1.2, 6.4, 2.6, 8.1])"
   ]
  },
  {
   "cell_type": "code",
   "execution_count": 5,
   "id": "831edb55",
   "metadata": {},
   "outputs": [],
   "source": [
    "# convert to column vectors\n",
    "x = x.reshape((-1, 1))\n",
    "y = y.reshape((-1, 1))"
   ]
  },
  {
   "cell_type": "code",
   "execution_count": 6,
   "id": "2f291203",
   "metadata": {},
   "outputs": [],
   "source": [
    "def least_squares(x, y, reg=0):\n",
    "    n, d = x.shape[0], x.shape[1]\n",
    "    # append x to a column of ones. bias trick\n",
    "    x = np.hstack((np.ones(n).reshape(-1, 1), x))\n",
    "    solution = np.linalg.inv(x.T @ x + (reg**2) * np.eye(d + 1)) @ x.T @ y\n",
    "    return solution"
   ]
  },
  {
   "cell_type": "markdown",
   "id": "dba04ffd",
   "metadata": {},
   "source": [
    "## Part 2a)"
   ]
  },
  {
   "cell_type": "code",
   "execution_count": 10,
   "id": "d9bf3fa5",
   "metadata": {},
   "outputs": [
    {
     "name": "stdout",
     "output_type": "stream",
     "text": [
      "Equation of line when regularization = 0 is y = -0.6766317887394105 * x + 7.331091180866961\n",
      "Equation of line when regularization = 1 is y = 0.47491248541423553 * x + 3.1152275379229852\n",
      "Equation of line when regularization = 10 is y = 0.4671668474177275 * x + 0.1791637826693662\n"
     ]
    }
   ],
   "source": [
    "regularization_constants = [0, 1, 10]\n",
    "solutions = []\n",
    "for i, reg in enumerate(regularization_constants):\n",
    "    solution = least_squares(x, y, reg)\n",
    "    print(f\"Equation of line when regularization = {reg} is y = {solution[1][0]} * x + {solution[0][0]}\")\n",
    "    solutions.append(solution)"
   ]
  },
  {
   "cell_type": "code",
   "execution_count": 13,
   "id": "54c8cd42",
   "metadata": {},
   "outputs": [
    {
     "data": {
      "image/png": "[encoded data removed]",
      "text/plain": [
       "<Figure size 432x288 with 1 Axes>"
      ]
     },
     "metadata": {
      "needs_background": "light"
     },
     "output_type": "display_data"
    }
   ],
   "source": [
    "# defining input space\n",
    "x_new = np.linspace(1, 6, 100).reshape((-1, 1))\n",
    "n, d = x_new.shape[0], x_new.shape[1]\n",
    "# append x to a column of ones. bias trick\n",
    "x_new = np.hstack((np.ones(n).reshape(-1, 1), x_new))\n",
    "\n",
    "y1 = x_new @ solutions[0]\n",
    "y2 = x_new @ solutions[1]\n",
    "y3 = x_new @ solutions[2]\n",
    "\n",
    "# 3 new plots one each for different regularization\n",
    "plt.plot(x_new, y1, '-r')\n",
    "plt.plot(x_new, y2, '-g')\n",
    "plt.plot(x_new, y3, '-b')\n",
    "\n",
    "# actual x and y scatter plot\n",
    "plt.plot(x, y, 'yx')\n",
    "\n",
    "# defining space for x and y\n",
    "plt.axis([1, 6, 1, 10])\n",
    "\n",
    "plt.xlabel('x')\n",
    "plt.ylabel('y')\n",
    "plt.title('linear regression fit')\n",
    "plt.show()"
   ]
  },
  {
   "cell_type": "markdown",
   "id": "2b4727f9",
   "metadata": {},
   "source": [
    "## 2b\n",
    "\n",
    "The above plot says that when regularization constant is $0$, it is overfitting the data and is giving weight to outliers. This can be seen above in red line. It also says that when regularization constant is $1$, the line fits the data just right. This can be seen above in green line. When regularization constant is $10$, there is too much of regularization. This can be seen above in the blue line."
   ]
  },
  {
   "cell_type": "code",
   "execution_count": null,
   "id": "d5ca3745",
   "metadata": {},
   "outputs": [],
   "source": []
  }
 ],
 "metadata": {
  "kernelspec": {
   "display_name": "Python 3 (ipykernel)",
   "language": "python",
   "name": "python3"
  },
  "language_info": {
   "codemirror_mode": {
    "name": "ipython",
    "version": 3
   },
   "file_extension": ".py",
   "mimetype": "text/x-python",
   "name": "python",
   "nbconvert_exporter": "python",
   "pygments_lexer": "ipython3",
   "version": "3.9.7"
  }
 },
 "nbformat": 4,
 "nbformat_minor": 5
}
