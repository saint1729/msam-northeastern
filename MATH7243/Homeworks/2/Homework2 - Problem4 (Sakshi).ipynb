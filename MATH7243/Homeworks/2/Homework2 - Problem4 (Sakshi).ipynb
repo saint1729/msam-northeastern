{
 "cells": [
  {
   "cell_type": "markdown",
   "id": "25ff6b99",
   "metadata": {},
   "source": [
    "# Problem 4"
   ]
  },
  {
   "cell_type": "code",
   "execution_count": 1,
   "id": "df67df2c",
   "metadata": {},
   "outputs": [],
   "source": [
    "import numpy as np\n",
    "import matplotlib.pyplot as plt"
   ]
  },
  {
   "cell_type": "code",
   "execution_count": 2,
   "id": "cb29e54f",
   "metadata": {},
   "outputs": [],
   "source": [
    "# function to learn\n",
    "def g(x, beta):\n",
    "    return beta[0][0] + np.sin(beta[1][0] * x) + np.cos(beta[2][0] * x)"
   ]
  },
  {
   "cell_type": "code",
   "execution_count": 3,
   "id": "5332a1a2",
   "metadata": {},
   "outputs": [],
   "source": [
    "# calculate reduced sum of squares loss\n",
    "def RSS(g, x, y, beta):\n",
    "    return np.sum((g(x, beta) - y)**2)"
   ]
  },
  {
   "cell_type": "code",
   "execution_count": 4,
   "id": "b6685d66",
   "metadata": {},
   "outputs": [],
   "source": [
    "# calculate gradient\n",
    "def get_gradient(g, x, y, beta):\n",
    "    del_g = np.hstack((np.array([x * np.cos(beta[1][0] * x), -x * np.sin(beta[2][0] * x)]).reshape((10, 2)), np.ones(x.shape[0]).reshape(-1, 1)))\n",
    "    gradient = np.sum(2 * (g(x, beta) - y) * del_g, axis=0).reshape((-1, 1))\n",
    "    return gradient"
   ]
  },
  {
   "cell_type": "code",
   "execution_count": 5,
   "id": "244a2ad5",
   "metadata": {},
   "outputs": [],
   "source": [
    "# implementation of batch gradient descent\n",
    "def gradient_descent(g, x, y, learning_rate=0.01, iterations=100, error_threshold=0.001):\n",
    "    # random parameter initialization\n",
    "    param = np.array([np.random.rand(), np.random.rand(), np.random.rand()]).reshape((-1, 1))\n",
    "    prev = param\n",
    "    \n",
    "    losses = []\n",
    "    for i in range(iterations):\n",
    "        gradient = get_gradient(g, x, y, prev)\n",
    "        param = prev - learning_rate * gradient\n",
    "        if np.all(np.abs(param - prev) < error_threshold):\n",
    "            print(f\"Convergence found at iteration {i}.\")\n",
    "            break\n",
    "        prev = param\n",
    "        # collect loss w.r.t. number of iterations\n",
    "        losses.append(RSS(g, x, y, param))\n",
    "    \n",
    "    return losses, param"
   ]
  },
  {
   "cell_type": "code",
   "execution_count": 6,
   "id": "7f5bec67",
   "metadata": {},
   "outputs": [],
   "source": [
    "# input data and labels\n",
    "x = np.array([0, 2, 4, 6, 8, 10, 12, 14, 16, 18]).reshape((-1, 1))\n",
    "y = np.array([2.85, 1.5, 0.49, 1.57, 1.9, 0.6, 0.38, 2.33, 1.65, 0.3]).reshape((-1, 1))"
   ]
  },
  {
   "cell_type": "code",
   "execution_count": 7,
   "id": "90c0af1f",
   "metadata": {},
   "outputs": [],
   "source": [
    "losses, param = gradient_descent(g, x, y, learning_rate=0.001, iterations=30, error_threshold=0.0001)"
   ]
  },
  {
   "cell_type": "code",
   "execution_count": 8,
   "id": "0814bfb4",
   "metadata": {},
   "outputs": [
    {
     "data": {
      "image/png": "[encoded data removed]",
      "text/plain": [
       "<Figure size 432x288 with 1 Axes>"
      ]
     },
     "metadata": {
      "needs_background": "light"
     },
     "output_type": "display_data"
    }
   ],
   "source": [
    "plt.plot(losses, 'rx')\n",
    "plt.xlabel('iterations')\n",
    "plt.ylabel('losses')\n",
    "plt.title('iterations vs loss plot')\n",
    "plt.show()"
   ]
  },
  {
   "cell_type": "code",
   "execution_count": null,
   "id": "d5ca3745",
   "metadata": {},
   "outputs": [],
   "source": []
  }
 ],
 "metadata": {
  "kernelspec": {
   "display_name": "Python 3 (ipykernel)",
   "language": "python",
   "name": "python3"
  },
  "language_info": {
   "codemirror_mode": {
    "name": "ipython",
    "version": 3
   },
   "file_extension": ".py",
   "mimetype": "text/x-python",
   "name": "python",
   "nbconvert_exporter": "python",
   "pygments_lexer": "ipython3",
   "version": "3.9.7"
  }
 },
 "nbformat": 4,
 "nbformat_minor": 5
}
